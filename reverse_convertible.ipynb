{
 "cells": [
  {
   "cell_type": "code",
   "execution_count": 1,
   "metadata": {},
   "outputs": [],
   "source": [
    "import numpy as np\n",
    "import matplotlib.pyplot as plt\n",
    "import options_trading as opt\n",
    "%load_ext autoreload\n",
    "%autoreload 2"
   ]
  },
  {
   "cell_type": "code",
   "execution_count": 2,
   "metadata": {},
   "outputs": [],
   "source": [
    "def call_spread (S0, K1, K2, T, r, vol):\n",
    "    C1=opt.black_scholes(r, S0, K1, T, vol, type=\"c\")\n",
    "    C2=opt.black_scholes(r, S0, K2, T, vol, type=\"c\")\n",
    "    return C1-C2"
   ]
  },
  {
   "cell_type": "code",
   "execution_count": 3,
   "metadata": {},
   "outputs": [],
   "source": [
    "def down_and_in_put(S0, K, H, T, r, vol, N, M):\n",
    "    dt=T/N\n",
    "    nudt=(r-0.5*vol**2)*dt\n",
    "    volsdt=vol*np.sqrt(dt)\n",
    "    erdt=np.exp(-r*dt)\n",
    "\n",
    "    sum_CT=0\n",
    "    sum_CT2=0\n",
    "\n",
    "    for i in range(M):\n",
    "        BARRIER=False\n",
    "        St=S0\n",
    "    \n",
    "        for j in range (N):\n",
    "            epsilon=np.random.normal()\n",
    "            Stn=St*np.exp(nudt+volsdt*epsilon)\n",
    "            St=Stn\n",
    "        \n",
    "            if St<=H:\n",
    "                BARRIER=True\n",
    "        \n",
    "        if BARRIER:\n",
    "            CT=max(0,K-St)\n",
    "        else:\n",
    "            CT=0\n",
    "            \n",
    "        sum_CT=sum_CT+CT\n",
    "        sum_CT2=sum_CT2+CT*CT\n",
    "    \n",
    "    C0=np.exp(-r*T)*sum_CT/M\n",
    "    sigma=np.sqrt((sum_CT2-sum_CT*sum_CT/M)*np.exp(-2*r*T)/(M-1))\n",
    "    SE=sigma/np.sqrt(M)\n",
    "    \n",
    "    return C0"
   ]
  },
  {
   "cell_type": "markdown",
   "metadata": {},
   "source": [
    "### Knock-in Reverse Convertible"
   ]
  },
  {
   "cell_type": "code",
   "execution_count": 4,
   "metadata": {},
   "outputs": [],
   "source": [
    "def knock_in_reverse_convertible(A, S0, H, c, t, T, r, vol, N, M):     ##t in months\n",
    "    ## Renvoie la valeur d'un coupon en utilisant c la valeur d'une obligation basique\n",
    "    obs=T/(t/12)\n",
    "    V=0\n",
    "    final_discount=1/((1+c)**obs)\n",
    "    for i in range (1,int(obs)+1):\n",
    "        V+=1/((1+c)**i)\n",
    "\n",
    "    P=down_and_in_put(S0, S0, H, T, r, vol, N, M)\n",
    "    \n",
    "    return ((1-final_discount+P/A)/V)*100     ##pour avoir le résultat en pourcentage"
   ]
  },
  {
   "cell_type": "code",
   "execution_count": 5,
   "metadata": {},
   "outputs": [
    {
     "data": {
      "text/plain": [
       "3.5762878150520816"
      ]
     },
     "execution_count": 5,
     "metadata": {},
     "output_type": "execute_result"
    }
   ],
   "source": [
    "knock_in_reverse_convertible(100, 100, 80, 0.0175, 6, 2, 0.04, 0.2, 100, 1000)"
   ]
  },
  {
   "cell_type": "markdown",
   "metadata": {},
   "source": [
    "### Autocallable"
   ]
  },
  {
   "cell_type": "code",
   "execution_count": 6,
   "metadata": {},
   "outputs": [],
   "source": [
    "def autocallable (A, S0, H1, H2, H3, c, t, T, r, vol, N, M):\n",
    "    ## H1 est la barrière basse de knock-in, H2 est la barrière pour les coupons\n",
    "    ## et H3 est la barrière haute (de knock-out avec rebate)\n",
    "        \n",
    "    dt=T/N\n",
    "    nudt=(r-0.5*vol**2)*dt\n",
    "    volsdt=vol*np.sqrt(dt)\n",
    "    erdt=np.exp(-r*dt)\n",
    "    obs=int(N/(t/12))\n",
    "\n",
    "    sum_CT=0\n",
    "    sum_CT2=0\n",
    "\n",
    "    for i in range(M):\n",
    "        St=S0\n",
    "        knocked_out=False\n",
    "        knocked_in=False\n",
    "        CT=0\n",
    "    \n",
    "        for j in range (N):\n",
    "            epsilon=np.random.normal()\n",
    "            Stn=St*np.exp(nudt+volsdt*epsilon)\n",
    "            St=Stn\n",
    "            \n",
    "            ##Down and in put option à H1\n",
    "            if St<H1:\n",
    "                knocked_in=True\n",
    "\n",
    "            if (j+1)%obs==0:\n",
    "\n",
    "                if St>=H3:\n",
    "                    knocked_out=True\n",
    "                    break\n",
    "                \n",
    "                if St>H2:\n",
    "                    CT+=call_spread(St, H2-c*100, H2, (T - (j+1) * dt), r, vol)\n",
    "        \n",
    "        if knocked_in:\n",
    "            #l'investisseur reçoit son montant proportionnel à la chute de l'action\n",
    "            CT+= A-max(0,S0-St)\n",
    "        \n",
    "        if knocked_out:\n",
    "            #la barrière a été atteinte et l'investisseur reçoit son montant investi avant échéance\n",
    "            CT+=A\n",
    "        \n",
    "        if not knocked_out and not knocked_in : \n",
    "            #On arrive à échéance et l'investisseur reçoit le montant investi même si la barrière de knock-out n'a pas été atteinte\n",
    "            CT+=A\n",
    "        \n",
    "        sum_CT+=CT\n",
    "        sum_CT2+=CT**2\n",
    "    \n",
    "    C0=np.exp(-r*T)*sum_CT/M\n",
    "    sigma=np.sqrt((sum_CT2-sum_CT*sum_CT/M)*np.exp(-2*r*T)/(M-1))\n",
    "    SE=sigma/np.sqrt(M)    #Compute the standard error\n",
    "    return C0"
   ]
  },
  {
   "cell_type": "code",
   "execution_count": 7,
   "metadata": {},
   "outputs": [
    {
     "data": {
      "text/plain": [
       "87.85433323138874"
      ]
     },
     "execution_count": 7,
     "metadata": {},
     "output_type": "execute_result"
    }
   ],
   "source": [
    "autocallable(100, 100, 80, 90, 110, 0.04, 6, 2, 0.02, 0.2, 100, 1000)"
   ]
  },
  {
   "cell_type": "code",
   "execution_count": null,
   "metadata": {},
   "outputs": [],
   "source": [
    "def autocallable_unconditional (A, S0, H1, H2, H3, c, t, T, r, vol, N, M):\n",
    "    ## H1 est la barrière basse de knock-in, H2 est la barrière pour les coupons\n",
    "    ## et H3 est la barrière haute (de knock-out avec rebate)\n",
    "        \n",
    "    dt=T/N\n",
    "    nudt=(r-0.5*vol**2)*dt\n",
    "    volsdt=vol*np.sqrt(dt)\n",
    "    erdt=np.exp(-r*dt)\n",
    "    obs=int(N/(t/12))\n",
    "\n",
    "    sum_CT=0\n",
    "    sum_CT2=0\n",
    "\n",
    "    for i in range(M):\n",
    "        St=S0\n",
    "        knocked_out=False\n",
    "        knocked_in=False\n",
    "        CT=0\n",
    "        total_coupon=0\n",
    "    \n",
    "        for j in range (N):\n",
    "            epsilon=np.random.normal()\n",
    "            Stn=St*np.exp(nudt+volsdt*epsilon)\n",
    "            St=Stn\n",
    "            \n",
    "            ##Down and in put option à H1\n",
    "            if St<H1:\n",
    "                knocked_in=True\n",
    "\n",
    "            if (j+1)%obs==0:\n",
    "                total_coupon+=c\n",
    "\n",
    "                if St>=H3:\n",
    "                    knocked_out=True\n",
    "                    CT=A+A*total_coupon\n",
    "                    break\n",
    "                \n",
    "                CT+=call_spread(S0, H2-c*100, H2, (T - (j+1) * dt), r, vol)\n",
    "        \n",
    "        if knocked_in:\n",
    "            CT+= -max(0,S0-St)\n",
    "        \n",
    "        if not knocked_out:\n",
    "            CT+=A+A*total_coupon  \n",
    "        \n",
    "        sum_CT+=CT\n",
    "        sum_CT2+=CT**2\n",
    "    \n",
    "    C0=np.exp(-r*T)*sum_CT/M\n",
    "    sigma=np.sqrt((sum_CT2-sum_CT*sum_CT/M)*np.exp(-2*r*T)/(M-1))\n",
    "    SE=sigma/np.sqrt(M)    #Compute the standard error\n",
    "    return C0"
   ]
  }
 ],
 "metadata": {
  "kernelspec": {
   "display_name": "base",
   "language": "python",
   "name": "python3"
  },
  "language_info": {
   "codemirror_mode": {
    "name": "ipython",
    "version": 3
   },
   "file_extension": ".py",
   "mimetype": "text/x-python",
   "name": "python",
   "nbconvert_exporter": "python",
   "pygments_lexer": "ipython3",
   "version": "3.10.9"
  }
 },
 "nbformat": 4,
 "nbformat_minor": 2
}
