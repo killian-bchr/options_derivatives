{
 "cells": [
  {
   "cell_type": "code",
   "execution_count": 2,
   "id": "ecf1c5b8",
   "metadata": {},
   "outputs": [],
   "source": [
    "import numpy as np\n",
    "import matplotlib.pyplot as plt\n",
    "import options_trading as opt\n",
    "%load_ext autoreload\n",
    "%autoreload 2"
   ]
  },
  {
   "cell_type": "markdown",
   "id": "4ea5a6b4",
   "metadata": {},
   "source": [
    "### Price a Call Spread"
   ]
  },
  {
   "cell_type": "code",
   "execution_count": 5,
   "id": "48ec7a51",
   "metadata": {},
   "outputs": [],
   "source": [
    "def call_spread (S0, K1, K2, T, r, vol):\n",
    "    C1=opt.black_scholes(r, S0, K1, T, vol, type=\"c\")\n",
    "    C2=opt.black_scholes(r, S0, K2, T, vol, type=\"c\")\n",
    "    return C1-C2"
   ]
  },
  {
   "cell_type": "code",
   "execution_count": 6,
   "id": "a4c7e89f",
   "metadata": {},
   "outputs": [
    {
     "data": {
      "text/plain": [
       "2.958252649707731"
      ]
     },
     "execution_count": 6,
     "metadata": {},
     "output_type": "execute_result"
    }
   ],
   "source": [
    "call_spread(100, 86, 90, 1, 0.04, 0.2)"
   ]
  },
  {
   "cell_type": "code",
   "execution_count": 2,
   "id": "08237579",
   "metadata": {},
   "outputs": [],
   "source": [
    "S0=100\n",
    "K=100\n",
    "T=1\n",
    "H=125\n",
    "r=0.06\n",
    "N=3\n",
    "u=1.1\n",
    "d=1/u\n",
    "dt=T/N\n",
    "opttype='C'"
   ]
  },
  {
   "cell_type": "code",
   "execution_count": 29,
   "id": "0ffddcab",
   "metadata": {},
   "outputs": [],
   "source": [
    "def binomial_tree_slow (S0, K, T, H, r, N, u, opttype='C'):\n",
    "    dt=T/N\n",
    "    d=1/u\n",
    "    q=(np.exp(-r*dt)-u)/(u-d)\n",
    "\n",
    "    #Compute the final prices at maturity\n",
    "    S=np.zeros(N+1)\n",
    "    for j in range (N+1):\n",
    "        S[j]=S0*u**j*d**(N-j)\n",
    "    \n",
    "    #Compute option payoff at maturity\n",
    "    C=np.zeros(N+1)\n",
    "    for j in range (N+1):\n",
    "        if opttype=='C':\n",
    "            C[j]=max(0,S[j]-K)\n",
    "        else:\n",
    "            C[j]=max(0,K-S[j])\n",
    "    \n",
    "    for j in range (N+1):\n",
    "        if S[j]>=H:\n",
    "            C[j]=0\n",
    "            \n",
    "    #work backward\n",
    "    for i in np.arange(N-1, -1, -1):\n",
    "        for j in range (i+1):\n",
    "            S[j]=S0*u**j*d**(i-j)\n",
    "            if S[j]>H:\n",
    "                C[j]=0\n",
    "            else:\n",
    "                C[j]=np.exp(-r*dt)*(q*C[j+1]+(1-q)*C[j])\n",
    "    return C[0]"
   ]
  },
  {
   "cell_type": "code",
   "execution_count": 26,
   "id": "9b780f58",
   "metadata": {},
   "outputs": [],
   "source": [
    "#Fast implementation of binomial tree\n",
    "\n",
    "def binomial_tree_fast (S0, K, T, H, r, N, u, opttype='C'):\n",
    "    dt=T/N\n",
    "    d=1/u\n",
    "    q=(np.exp(-r*dt)-u)/(u-d)\n",
    "    \n",
    "    S=S0*d**np.arange(N,-1,-1)*u**np.arange(0,N+1,1)\n",
    "\n",
    "    if opttype=='C':\n",
    "        C=np.maximum(S-K,0)\n",
    "    else:\n",
    "        C=np.maximum(K-S,0)\n",
    "\n",
    "    C[S>=H]=0\n",
    "\n",
    "    for i in np.arange(N-1, -1, -1):\n",
    "        S=S0*d**np.arange(i,-1,-1)*u**np.arange(0,i+1,1)\n",
    "        C[:i+1]=np.exp(-r*dt)*(q*C[1:i+2]+(1-q)*C[0:i+1])\n",
    "        C = C[:-1]\n",
    "        C[S>=H]=0\n",
    "    \n",
    "    return C[0]"
   ]
  },
  {
   "cell_type": "code",
   "execution_count": 41,
   "id": "26eb72bb",
   "metadata": {},
   "outputs": [
    {
     "data": {
      "text/plain": [
       "18.107680656489546"
      ]
     },
     "execution_count": 41,
     "metadata": {},
     "output_type": "execute_result"
    }
   ],
   "source": [
    "binomial_tree_fast(100, 100, 1, 125, 0.06, 3, 1.1)"
   ]
  },
  {
   "cell_type": "markdown",
   "id": "ae6d054f",
   "metadata": {},
   "source": [
    "## Monte Carlo Process"
   ]
  },
  {
   "cell_type": "code",
   "execution_count": 33,
   "id": "93b4d2d3",
   "metadata": {},
   "outputs": [],
   "source": [
    "S0=100\n",
    "K=100\n",
    "T=1\n",
    "H=125\n",
    "r=0.01\n",
    "vol=0.2\n",
    "\n",
    "N=100   #number of timesteps\n",
    "M=1000  #number of simulations\n",
    "\n",
    "\n",
    "def monte_carlo_pricing(S0, K, T, H, r, vol, N, M):\n",
    "    dt=T/N\n",
    "    nudt=(r-0.5*vol**2)*dt\n",
    "    volsdt=vol*np.sqrt(dt)\n",
    "    erdt=np.exp(-r*dt)\n",
    "\n",
    "    sum_CT=0\n",
    "    sum_CT2=0\n",
    "\n",
    "    for i in range(M):\n",
    "        BARRIER=False\n",
    "        St=S0\n",
    "    \n",
    "        for j in range (N):\n",
    "            epsilon=np.random.normal()\n",
    "            Stn=St*np.exp(nudt+volsdt*epsilon)\n",
    "            St=Stn\n",
    "        \n",
    "            if St>=H:\n",
    "                BARRIER=True\n",
    "                break\n",
    "        \n",
    "        if BARRIER:\n",
    "            CT=0\n",
    "        else:\n",
    "            CT=max(0,K-St)\n",
    "            \n",
    "        sum_CT=sum_CT+CT\n",
    "        sum_CT2=sum_CT2+CT*CT\n",
    "    \n",
    "    C0=np.exp(-r*T)*sum_CT/M\n",
    "    sigma=np.sqrt((sum_CT2-sum_CT*sum_CT/M)*np.exp(-2*r*T)/(M-1))\n",
    "    SE=sigma/np.sqrt(M)    #Compute the standard error\n",
    "    \n",
    "    return (C0, SE)"
   ]
  },
  {
   "cell_type": "code",
   "execution_count": 36,
   "id": "41731179",
   "metadata": {},
   "outputs": [
    {
     "data": {
      "text/plain": [
       "(5.378357668333896, 0.2650910965228766)"
      ]
     },
     "execution_count": 36,
     "metadata": {},
     "output_type": "execute_result"
    }
   ],
   "source": [
    "monte_carlo_pricing(100, 100, 1, 125, 0.06, 0.2, 100, 1000)"
   ]
  },
  {
   "cell_type": "markdown",
   "id": "6c1373bf",
   "metadata": {},
   "source": [
    "### Price a Digit option"
   ]
  },
  {
   "cell_type": "code",
   "execution_count": 11,
   "id": "ef1047d5",
   "metadata": {},
   "outputs": [],
   "source": [
    "def digit_option(S0, K, T, r, vol, N, M, opttype='C'):\n",
    "    dt=T/N\n",
    "    nudt=(r-0.5*vol**2)*dt\n",
    "    volsdt=vol*np.sqrt(dt)\n",
    "    erdt=np.exp(-r*dt)\n",
    "\n",
    "    sum_CT=0\n",
    "    sum_CT2=0\n",
    "\n",
    "    for i in range(M):\n",
    "        St=S0\n",
    "        CT=0\n",
    "    \n",
    "        for j in range (N):\n",
    "            epsilon=np.random.normal()\n",
    "            Stn=St*np.exp(nudt+volsdt*epsilon)\n",
    "            St=Stn\n",
    "        \n",
    "        if opttype=='C':\n",
    "            if St>=K:\n",
    "                CT=1\n",
    "        \n",
    "        else:\n",
    "            if St<K:\n",
    "                CT=1\n",
    "    \n",
    "        sum_CT=sum_CT+CT\n",
    "        sum_CT2=sum_CT2+CT*CT\n",
    "    \n",
    "    C0=np.exp(-r*T)*sum_CT/M\n",
    "    sigma=np.sqrt((sum_CT2-sum_CT*sum_CT/M)*np.exp(-2*r*T)/(M-1))\n",
    "    SE=sigma/np.sqrt(M)    #Compute the standard error\n",
    "    \n",
    "    return C0"
   ]
  },
  {
   "cell_type": "code",
   "execution_count": 19,
   "id": "3f076b34",
   "metadata": {},
   "outputs": [
    {
     "data": {
      "text/plain": [
       "0.34300182977737936"
      ]
     },
     "execution_count": 19,
     "metadata": {},
     "output_type": "execute_result"
    }
   ],
   "source": [
    "digit_option(100, 110, 1, 0.04, 0.2, 100, 1000)"
   ]
  },
  {
   "cell_type": "markdown",
   "id": "0ef2db58",
   "metadata": {},
   "source": [
    "### Up-and-in barrier option"
   ]
  },
  {
   "cell_type": "code",
   "execution_count": 145,
   "id": "4ee65da9",
   "metadata": {},
   "outputs": [],
   "source": [
    "def up_and_in_call(S0, K, H, T, r, vol, N, M):\n",
    "    dt=T/N\n",
    "    nudt=(r-0.5*vol**2)*dt\n",
    "    volsdt=vol*np.sqrt(dt)\n",
    "    erdt=np.exp(-r*dt)\n",
    "\n",
    "    sum_CT=0\n",
    "    sum_CT2=0\n",
    "\n",
    "    for i in range(M):\n",
    "        BARRIER=False\n",
    "        St=S0\n",
    "    \n",
    "        for j in range (N):\n",
    "            epsilon=np.random.normal()\n",
    "            Stn=St*np.exp(nudt+volsdt*epsilon)\n",
    "            St=Stn\n",
    "        \n",
    "            if St>=H:\n",
    "                BARRIER=True\n",
    "        \n",
    "        if BARRIER:\n",
    "            CT=max(0,St-K)\n",
    "        else:\n",
    "            CT=0\n",
    "            \n",
    "        sum_CT=sum_CT+CT\n",
    "        sum_CT2=sum_CT2+CT*CT\n",
    "    \n",
    "    C0=np.exp(-r*T)*sum_CT/M\n",
    "    sigma=np.sqrt((sum_CT2-sum_CT*sum_CT/M)*np.exp(-2*r*T)/(M-1))\n",
    "    SE=sigma/np.sqrt(M)    #Compute the standard error\n",
    "    \n",
    "    return C0"
   ]
  },
  {
   "cell_type": "code",
   "execution_count": 146,
   "id": "d484a200",
   "metadata": {},
   "outputs": [
    {
     "data": {
      "text/plain": [
       "5.378975288169093"
      ]
     },
     "execution_count": 146,
     "metadata": {},
     "output_type": "execute_result"
    }
   ],
   "source": [
    "up_and_in_call(130, 130, 150, 1, 0.04, 0.1, 100, 1000)"
   ]
  },
  {
   "cell_type": "markdown",
   "id": "2effba24",
   "metadata": {},
   "source": [
    "### Up-and-out barrier option"
   ]
  },
  {
   "cell_type": "code",
   "execution_count": 60,
   "id": "bce5428e",
   "metadata": {},
   "outputs": [],
   "source": [
    "def up_and_out_call(S0, K, H, T, r, vol, N, M, rebate=False, rebate_percent=0):\n",
    "    dt=T/N\n",
    "    nudt=(r-0.5*vol**2)*dt\n",
    "    volsdt=vol*np.sqrt(dt)\n",
    "    erdt=np.exp(-r*dt)\n",
    "\n",
    "    sum_CT=0\n",
    "    sum_CT2=0\n",
    "\n",
    "    for i in range(M):\n",
    "        BARRIER=False\n",
    "        St=S0\n",
    "    \n",
    "        for j in range (N):\n",
    "            epsilon=np.random.normal()\n",
    "            Stn=St*np.exp(nudt+volsdt*epsilon)\n",
    "            St=Stn\n",
    "        \n",
    "            if St>=H:\n",
    "                BARRIER=True\n",
    "                break\n",
    "        \n",
    "        if BARRIER:\n",
    "            if rebate:\n",
    "                CT=rebate_percent*max(0,H-K)\n",
    "            else:\n",
    "                CT=0\n",
    "        else:\n",
    "            CT=max(0,St-K)\n",
    "            \n",
    "        sum_CT=sum_CT+CT\n",
    "        sum_CT2=sum_CT2+CT*CT\n",
    "    \n",
    "    C0=np.exp(-r*T)*sum_CT/M\n",
    "    sigma=np.sqrt((sum_CT2-sum_CT*sum_CT/M)*np.exp(-2*r*T)/(M-1))\n",
    "    SE=sigma/np.sqrt(M)    #Compute the standard error\n",
    "    \n",
    "    return C0"
   ]
  },
  {
   "cell_type": "code",
   "execution_count": 61,
   "id": "56dd46f0",
   "metadata": {},
   "outputs": [
    {
     "data": {
      "text/plain": [
       "3.5448177623958825"
      ]
     },
     "execution_count": 61,
     "metadata": {},
     "output_type": "execute_result"
    }
   ],
   "source": [
    "up_and_out_call(130, 130, 150, 1, 0.04, 0.1, 100, 1000, rebate=True, rebate_percent=0.1)"
   ]
  },
  {
   "cell_type": "code",
   "execution_count": 62,
   "id": "70ffa468",
   "metadata": {},
   "outputs": [
    {
     "data": {
      "text/plain": [
       "3.244848414894692"
      ]
     },
     "execution_count": 62,
     "metadata": {},
     "output_type": "execute_result"
    }
   ],
   "source": [
    "up_and_out_call(130, 130, 150, 1, 0.04, 0.1, 100, 1000)"
   ]
  },
  {
   "cell_type": "markdown",
   "id": "8fb8b8a7",
   "metadata": {},
   "source": [
    "### Down-and-in barrier option"
   ]
  },
  {
   "cell_type": "code",
   "execution_count": 143,
   "id": "e63f6ba6",
   "metadata": {},
   "outputs": [],
   "source": [
    "def down_and_in_put(S0, K, H, T, r, vol, N, M):\n",
    "    dt=T/N\n",
    "    nudt=(r-0.5*vol**2)*dt\n",
    "    volsdt=vol*np.sqrt(dt)\n",
    "    erdt=np.exp(-r*dt)\n",
    "\n",
    "    sum_CT=0\n",
    "    sum_CT2=0\n",
    "\n",
    "    for i in range(M):\n",
    "        BARRIER=False\n",
    "        St=S0\n",
    "    \n",
    "        for j in range (N):\n",
    "            epsilon=np.random.normal()\n",
    "            Stn=St*np.exp(nudt+volsdt*epsilon)\n",
    "            St=Stn\n",
    "        \n",
    "            if St<=H:\n",
    "                BARRIER=True\n",
    "        \n",
    "        if BARRIER:\n",
    "            CT=max(0,K-St)\n",
    "        else:\n",
    "            CT=0\n",
    "            \n",
    "        sum_CT=sum_CT+CT\n",
    "        sum_CT2=sum_CT2+CT*CT\n",
    "    \n",
    "    C0=np.exp(-r*T)*sum_CT/M\n",
    "    sigma=np.sqrt((sum_CT2-sum_CT*sum_CT/M)*np.exp(-2*r*T)/(M-1))\n",
    "    SE=sigma/np.sqrt(M)    #Compute the standard error\n",
    "    \n",
    "    return C0"
   ]
  },
  {
   "cell_type": "code",
   "execution_count": 144,
   "id": "e6cbdf6f",
   "metadata": {},
   "outputs": [
    {
     "data": {
      "text/plain": [
       "0.14380154064452516"
      ]
     },
     "execution_count": 144,
     "metadata": {},
     "output_type": "execute_result"
    }
   ],
   "source": [
    "down_and_in_put(130, 130, 100, 1, 0.04, 0.1, 100, 1000)"
   ]
  },
  {
   "cell_type": "markdown",
   "id": "cf569aef",
   "metadata": {},
   "source": [
    "### Down-and-out barrier option"
   ]
  },
  {
   "cell_type": "code",
   "execution_count": 64,
   "id": "577aec13",
   "metadata": {},
   "outputs": [],
   "source": [
    "def down_and_out_put(S0, K, H, T, r, vol, N, M):\n",
    "    dt=T/N\n",
    "    nudt=(r-0.5*vol**2)*dt\n",
    "    volsdt=vol*np.sqrt(dt)\n",
    "    erdt=np.exp(-r*dt)\n",
    "\n",
    "    sum_CT=0\n",
    "    sum_CT2=0\n",
    "\n",
    "    for i in range(M):\n",
    "        BARRIER=False\n",
    "        St=S0\n",
    "    \n",
    "        for j in range (N):\n",
    "            epsilon=np.random.normal()\n",
    "            Stn=St*np.exp(nudt+volsdt*epsilon)\n",
    "            St=Stn\n",
    "        \n",
    "            if St<=H:\n",
    "                BARRIER=True\n",
    "                break\n",
    "        \n",
    "        if BARRIER:\n",
    "            CT=0\n",
    "        else:\n",
    "            CT=max(0,K-St)\n",
    "            \n",
    "        sum_CT=sum_CT+CT\n",
    "        sum_CT2=sum_CT2+CT*CT\n",
    "    \n",
    "    C0=np.exp(-r*T)*sum_CT/M\n",
    "    sigma=np.sqrt((sum_CT2-sum_CT*sum_CT/M)*np.exp(-2*r*T)/(M-1))\n",
    "    SE=sigma/np.sqrt(M)    #Compute the standard error\n",
    "    \n",
    "    return C0"
   ]
  },
  {
   "cell_type": "markdown",
   "id": "2775a025",
   "metadata": {},
   "source": [
    "### Price a Ladder option"
   ]
  },
  {
   "cell_type": "code",
   "execution_count": 66,
   "id": "9e44f1f5",
   "metadata": {},
   "outputs": [],
   "source": [
    "def ladder_option(S0, strikes, barriers, T, r, vol, N, M, rebates):\n",
    "    dt=T/N\n",
    "    nudt=(r-0.5*vol**2)*dt\n",
    "    volsdt=vol*np.sqrt(dt)\n",
    "    erdt=np.exp(-r*dt)\n",
    "\n",
    "    sum_CT=0\n",
    "    sum_CT2=0\n",
    "\n",
    "    for i in range(M):\n",
    "        St=S0\n",
    "        rebate_total=0\n",
    "        for level in range (len(strikes)):\n",
    "            BARRIER=False\n",
    "    \n",
    "            for j in range (N):\n",
    "                epsilon=np.random.normal()\n",
    "                Stn=St*np.exp(nudt+volsdt*epsilon)\n",
    "                St=Stn\n",
    "        \n",
    "                if level < len(barriers) and St>=barriers[level]:\n",
    "                    BARRIER=True\n",
    "                    break\n",
    "        \n",
    "            if BARRIER:\n",
    "                rebate_total+=rebates[level]*max(0,barriers[level]-strikes[level])\n",
    "                continue\n",
    "                \n",
    "            else:\n",
    "                payoff=max(0,St-strikes[level])\n",
    "                rebate_total+=payoff\n",
    "            \n",
    "        sum_CT+=rebate_total\n",
    "        sum_CT2+=rebate_total**2\n",
    "    \n",
    "    C0=np.exp(-r*T)*sum_CT/M\n",
    "    sigma=np.sqrt((sum_CT2-sum_CT*sum_CT/M)*np.exp(-2*r*T)/(M-1))\n",
    "    SE=sigma/np.sqrt(M)    #Compute the standard error\n",
    "    \n",
    "    return C0"
   ]
  },
  {
   "cell_type": "code",
   "execution_count": 68,
   "id": "ee2437fc",
   "metadata": {},
   "outputs": [
    {
     "data": {
      "text/plain": [
       "5.435792666509003"
      ]
     },
     "execution_count": 68,
     "metadata": {},
     "output_type": "execute_result"
    }
   ],
   "source": [
    "ladder_option(100, [100, 105, 110], [105, 110], 1, 0.04, 0.1, 100, 1000, [0.05, 0.05])"
   ]
  },
  {
   "cell_type": "markdown",
   "id": "6ce24861",
   "metadata": {},
   "source": [
    "### Price a Lookback option"
   ]
  },
  {
   "cell_type": "code",
   "execution_count": 112,
   "id": "758eb47a",
   "metadata": {},
   "outputs": [],
   "source": [
    "def fixed_strike_lookback_ladder(S0, K, T, r, vol, N, M, tick=0.01, rebate_value=0.01, opttype='C'):\n",
    "    #Pricing lookback option with fixed strike as a ladder option\n",
    "    dt = T / N\n",
    "    nudt = (r - 0.5 * vol**2) * dt\n",
    "    volsdt = vol * np.sqrt(dt)\n",
    "    erdt = np.exp(-r * dt)\n",
    "\n",
    "    # Création des strikes ladder\n",
    "    strikes = np.arange(K, K + tick * (N + 1), tick)    \n",
    "    rebates=(len(strikes)-1)*[rebate_value]\n",
    "    \n",
    "    sum_CT = 0\n",
    "    sum_CT2 = 0\n",
    "    \n",
    "    for i in range(M):\n",
    "        St = S0\n",
    "        rebate_sum = 0\n",
    "        \n",
    "        for j in range(N):\n",
    "            epsilon = np.random.normal()\n",
    "            Stn = St * np.exp(nudt + volsdt * epsilon)\n",
    "            St = Stn\n",
    "            \n",
    "            if opttype == 'C':  # Option Call\n",
    "                for i in range(len(strikes) - 1):\n",
    "                    if St >= strikes[i + 1]:\n",
    "                        rebate_sum += rebates[i]\n",
    "                        break\n",
    "            else:  # Option Put\n",
    "                for i in range(len(strikes) - 1):\n",
    "                    if St <= strikes[i]:\n",
    "                        rebate_sum += rebates[i]\n",
    "                        break\n",
    "        \n",
    "        if opttype == 'C':\n",
    "            CT = max(0, St - K) + rebate_sum\n",
    "        else:\n",
    "            CT = max(0, K - St) + rebate_sum\n",
    "        \n",
    "        sum_CT += CT\n",
    "        sum_CT2 += CT**2\n",
    "    \n",
    "    C0 = np.exp(-r * T) * sum_CT / M\n",
    "    return C0"
   ]
  },
  {
   "cell_type": "code",
   "execution_count": 115,
   "id": "ec535749",
   "metadata": {},
   "outputs": [
    {
     "data": {
      "text/plain": [
       "1.5992817947360405"
      ]
     },
     "execution_count": 115,
     "metadata": {},
     "output_type": "execute_result"
    }
   ],
   "source": [
    "ladder_lookback(100, 130, 1, 0.04, 0.2, 100, 10000, tick=0.01, rebate_value=0.01, opttype='C')"
   ]
  },
  {
   "cell_type": "code",
   "execution_count": 98,
   "id": "eb997065",
   "metadata": {},
   "outputs": [],
   "source": [
    "def fixed_strike_lookback(S0, K, T, r, vol, N, M, opttype='C'):\n",
    "    #Pricing lookback optionwith fixed strike using Monte Carlo process\n",
    "    dt=T/N\n",
    "    nudt=(r-0.5*vol**2)*dt\n",
    "    volsdt=vol*np.sqrt(dt)\n",
    "    erdt=np.exp(-r*dt)\n",
    "\n",
    "    sum_CT=0\n",
    "    sum_CT2=0\n",
    "\n",
    "    for i in range(M):\n",
    "        max_price=S0\n",
    "        min_price=S0\n",
    "        St=S0\n",
    "    \n",
    "        for j in range (N):\n",
    "            epsilon=np.random.normal()\n",
    "            Stn=St*np.exp(nudt+volsdt*epsilon)\n",
    "            St=Stn\n",
    "            max_price=max(max_price, St)\n",
    "            min_price=min(min_price, St)\n",
    "                \n",
    "        if opttype=='C':     #it's a call option\n",
    "            CT=max(0,max_price-K)\n",
    "        else:                #it's a put option\n",
    "            CT=max(0,K-min_price)      \n",
    "        \n",
    "        sum_CT+=CT\n",
    "        sum_CT2+=CT**2\n",
    "    \n",
    "    C0=np.exp(-r*T)*sum_CT/M\n",
    "    sigma=np.sqrt((sum_CT2-sum_CT*sum_CT/M)*np.exp(-2*r*T)/(M-1))\n",
    "    SE=sigma/np.sqrt(M)    #Compute the standard error\n",
    "    \n",
    "    return C0"
   ]
  },
  {
   "cell_type": "code",
   "execution_count": 114,
   "id": "93c44ebc",
   "metadata": {},
   "outputs": [
    {
     "data": {
      "text/plain": [
       "2.5630881738603417"
      ]
     },
     "execution_count": 114,
     "metadata": {},
     "output_type": "execute_result"
    }
   ],
   "source": [
    "fixed_strike_lookback(100, 130, 1, 0.04, 0.2, 100, 10000, opttype='C')"
   ]
  },
  {
   "cell_type": "code",
   "execution_count": 119,
   "id": "c5201f65",
   "metadata": {},
   "outputs": [],
   "source": [
    "def floating_strike_lookback(S0, T, r, vol, N, M, opttype='C'):\n",
    "    #Pricing lookback option with floating strike using Monte Carlo process\n",
    "    dt=T/N\n",
    "    nudt=(r-0.5*vol**2)*dt\n",
    "    volsdt=vol*np.sqrt(dt)\n",
    "    erdt=np.exp(-r*dt)\n",
    "\n",
    "    sum_CT=0\n",
    "    sum_CT2=0\n",
    "\n",
    "    for i in range(M):\n",
    "        K=S0\n",
    "        St=S0\n",
    "    \n",
    "        for j in range (N):\n",
    "            epsilon=np.random.normal()\n",
    "            Stn=St*np.exp(nudt+volsdt*epsilon)\n",
    "            St=Stn\n",
    "            if opttype=='C':\n",
    "                K=min(K, St)\n",
    "            else:\n",
    "                K=max(K, St)\n",
    "                \n",
    "        if opttype=='C':     #it's a call option\n",
    "            CT=max(0,St-K)\n",
    "        else:                #it's a put option\n",
    "            CT=max(0,K-St)      \n",
    "        \n",
    "        sum_CT+=CT\n",
    "        sum_CT2+=CT**2\n",
    "    \n",
    "    C0=np.exp(-r*T)*sum_CT/M\n",
    "    sigma=np.sqrt((sum_CT2-sum_CT*sum_CT/M)*np.exp(-2*r*T)/(M-1))\n",
    "    SE=sigma/np.sqrt(M)    #Compute the standard error\n",
    "    \n",
    "    return C0"
   ]
  },
  {
   "cell_type": "code",
   "execution_count": 121,
   "id": "1b1d31aa",
   "metadata": {},
   "outputs": [
    {
     "data": {
      "text/plain": [
       "15.24509402453641"
      ]
     },
     "execution_count": 121,
     "metadata": {},
     "output_type": "execute_result"
    }
   ],
   "source": [
    "floating_strike_lookback(100, 1, 0.04, 0.2, 100, 1000, opttype='C')"
   ]
  },
  {
   "cell_type": "markdown",
   "id": "07141fe8",
   "metadata": {},
   "source": [
    "### Knock-in Reverse Convertible"
   ]
  },
  {
   "cell_type": "code",
   "execution_count": 157,
   "id": "0317cf03",
   "metadata": {},
   "outputs": [],
   "source": [
    "def knock_in_reverse_convertible(A, S0, H, c, t, T, r, vol, N, M):     ##t in months\n",
    "    ## Renvoie la valeur d'un coupon\n",
    "    obs=T/(t/12)\n",
    "    V=0\n",
    "    final_discount=1/((1+c)**obs)\n",
    "    for i in range (1,int(obs)+1):\n",
    "        V+=1/((1+c)**i)\n",
    "\n",
    "    P=down_and_in_put(S0, S0, H, T, r, vol, N, M)\n",
    "    \n",
    "    return ((1-final_discount+P/A)/V)*100     ##pour avoir le résultat en pourcentage"
   ]
  },
  {
   "cell_type": "code",
   "execution_count": 160,
   "id": "5a58879d",
   "metadata": {},
   "outputs": [
    {
     "data": {
      "text/plain": [
       "1.7655757248658972"
      ]
     },
     "execution_count": 160,
     "metadata": {},
     "output_type": "execute_result"
    }
   ],
   "source": [
    "knock_in_reverse_convertible(10000, 100, 80, 0.0175, 6, 2, 0.04, 0.2, 100, 1000)"
   ]
  },
  {
   "cell_type": "markdown",
   "id": "650fd29e",
   "metadata": {},
   "source": [
    "### Autocallable"
   ]
  },
  {
   "cell_type": "code",
   "execution_count": null,
   "id": "92f627dd",
   "metadata": {},
   "outputs": [],
   "source": [
    "def autocallable (A, S0, H1, H2, H3, c, t, T, r, vol, N, M):\n",
    "    ## H1 est la barrière basse de knock-in, H2 est la barrière pour les coupons\n",
    "    ## et H3 est la barrière haute (de knock-out avec rebate)\n",
    "        \n",
    "    dt=T/N\n",
    "    nudt=(r-0.5*vol**2)*dt\n",
    "    volsdt=vol*np.sqrt(dt)\n",
    "    erdt=np.exp(-r*dt)\n",
    "    obs=T/(t/12)\n",
    "\n",
    "    sum_CT=0\n",
    "    sum_CT2=0\n",
    "\n",
    "    for i in range(M):\n",
    "        St=S0\n",
    "        CT=0\n",
    "    \n",
    "        for j in range (N):\n",
    "            epsilon=np.random.normal()\n",
    "            Stn=St*np.exp(nudt+volsdt*epsilon)\n",
    "            St=Stn\n",
    "\n",
    "            ##Calcul le prix des call spread pour les coupons \n",
    "            for i in range (1, int(obs)+1):\n",
    "                if St<H3:\n",
    "                    CT+=call_spread(S0, H2-c, H2, obs*(t/12), r, vol)\n",
    "                    \n",
    "            ##Knock-out à H3\n",
    "            \n",
    "            ##Down and in put option à H1\n",
    " \n",
    "        \n",
    "        sum_CT+=CT\n",
    "        sum_CT2+=CT**2\n",
    "    \n",
    "    C0=np.exp(-r*T)*sum_CT/M\n",
    "    sigma=np.sqrt((sum_CT2-sum_CT*sum_CT/M)*np.exp(-2*r*T)/(M-1))\n",
    "    SE=sigma/np.sqrt(M)    #Compute the standard error\n",
    "    "
   ]
  }
 ],
 "metadata": {
  "kernelspec": {
   "display_name": "Python 3 (ipykernel)",
   "language": "python",
   "name": "python3"
  },
  "language_info": {
   "codemirror_mode": {
    "name": "ipython",
    "version": 3
   },
   "file_extension": ".py",
   "mimetype": "text/x-python",
   "name": "python",
   "nbconvert_exporter": "python",
   "pygments_lexer": "ipython3",
   "version": "3.10.9"
  }
 },
 "nbformat": 4,
 "nbformat_minor": 5
}
