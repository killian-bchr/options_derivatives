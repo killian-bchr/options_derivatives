{
 "cells": [
  {
   "cell_type": "code",
   "execution_count": 3,
   "id": "ecf1c5b8",
   "metadata": {},
   "outputs": [],
   "source": [
    "import numpy as np\n",
    "import matplotlib.pyplot as plt\n",
    "import options_trading as opt\n",
    "%load_ext autoreload\n",
    "%autoreload 2"
   ]
  },
  {
   "cell_type": "markdown",
   "id": "c85c3585",
   "metadata": {},
   "source": [
    "### Price a Call Spread"
   ]
  },
  {
   "cell_type": "code",
   "execution_count": 4,
   "id": "5d8647cc",
   "metadata": {},
   "outputs": [],
   "source": [
    "def call_spread (S0, K1, K2, T, r, vol):\n",
    "    C1=opt.black_scholes(r, S0, K1, T, vol, type=\"c\")\n",
    "    C2=opt.black_scholes(r, S0, K2, T, vol, type=\"c\")\n",
    "    return C1-C2"
   ]
  },
  {
   "cell_type": "code",
   "execution_count": 6,
   "id": "316fa112",
   "metadata": {},
   "outputs": [
    {
     "data": {
      "text/plain": [
       "2.958252649707731"
      ]
     },
     "execution_count": 6,
     "metadata": {},
     "output_type": "execute_result"
    }
   ],
   "source": [
    "call_spread(100, 86, 90, 1, 0.04, 0.2)"
   ]
  },
  {
   "cell_type": "code",
   "execution_count": 7,
   "id": "08237579",
   "metadata": {},
   "outputs": [],
   "source": [
    "S0=100\n",
    "K=100\n",
    "T=1\n",
    "H=125\n",
    "r=0.06\n",
    "N=3\n",
    "u=1.1\n",
    "d=1/u\n",
    "dt=T/N\n",
    "opttype='C'"
   ]
  },
  {
   "cell_type": "code",
   "execution_count": 8,
   "id": "0ffddcab",
   "metadata": {},
   "outputs": [],
   "source": [
    "def binomial_tree_slow (S0, K, T, H, r, N, u, opttype='C'):\n",
    "    dt=T/N\n",
    "    d=1/u\n",
    "    q=(np.exp(-r*dt)-u)/(u-d)\n",
    "\n",
    "    #Compute the final prices at maturity\n",
    "    S=np.zeros(N+1)\n",
    "    for j in range (N+1):\n",
    "        S[j]=S0*u**j*d**(N-j)\n",
    "    \n",
    "    #Compute option payoff at maturity\n",
    "    C=np.zeros(N+1)\n",
    "    for j in range (N+1):\n",
    "        if opttype=='C':\n",
    "            C[j]=max(0,S[j]-K)\n",
    "        else:\n",
    "            C[j]=max(0,K-S[j])\n",
    "    \n",
    "    for j in range (N+1):\n",
    "        if S[j]>=H:\n",
    "            C[j]=0\n",
    "            \n",
    "    #work backward\n",
    "    for i in np.arange(N-1, -1, -1):\n",
    "        for j in range (i+1):\n",
    "            S[j]=S0*u**j*d**(i-j)\n",
    "            if S[j]>H:\n",
    "                C[j]=0\n",
    "            else:\n",
    "                C[j]=np.exp(-r*dt)*(q*C[j+1]+(1-q)*C[j])\n",
    "    return C[0]"
   ]
  },
  {
   "cell_type": "code",
   "execution_count": 9,
   "id": "9b780f58",
   "metadata": {},
   "outputs": [],
   "source": [
    "#Fast implementation of binomial tree\n",
    "\n",
    "def binomial_tree_fast (S0, K, T, H, r, N, u, opttype='C'):\n",
    "    dt=T/N\n",
    "    d=1/u\n",
    "    q=(np.exp(-r*dt)-u)/(u-d)\n",
    "    \n",
    "    S=S0*d**np.arange(N,-1,-1)*u**np.arange(0,N+1,1)\n",
    "\n",
    "    if opttype=='C':\n",
    "        C=np.maximum(S-K,0)\n",
    "    else:\n",
    "        C=np.maximum(K-S,0)\n",
    "\n",
    "    C[S>=H]=0\n",
    "\n",
    "    for i in np.arange(N-1, -1, -1):\n",
    "        S=S0*d**np.arange(i,-1,-1)*u**np.arange(0,i+1,1)\n",
    "        C[:i+1]=np.exp(-r*dt)*(q*C[1:i+2]+(1-q)*C[0:i+1])\n",
    "        C = C[:-1]\n",
    "        C[S>=H]=0\n",
    "    \n",
    "    return C[0]"
   ]
  },
  {
   "cell_type": "code",
   "execution_count": 10,
   "id": "26eb72bb",
   "metadata": {},
   "outputs": [
    {
     "data": {
      "text/plain": [
       "18.107680656489546"
      ]
     },
     "execution_count": 10,
     "metadata": {},
     "output_type": "execute_result"
    }
   ],
   "source": [
    "binomial_tree_fast(100, 100, 1, 125, 0.06, 3, 1.1)"
   ]
  },
  {
   "cell_type": "markdown",
   "id": "ae6d054f",
   "metadata": {},
   "source": [
    "## Monte Carlo Process"
   ]
  },
  {
   "cell_type": "code",
   "execution_count": 11,
   "id": "93b4d2d3",
   "metadata": {},
   "outputs": [],
   "source": [
    "S0=100\n",
    "K=100\n",
    "T=1\n",
    "H=125\n",
    "r=0.01\n",
    "vol=0.2\n",
    "\n",
    "N=100   #number of timesteps\n",
    "M=1000  #number of simulations\n",
    "\n",
    "\n",
    "def monte_carlo_pricing(S0, K, T, H, r, vol, N, M):\n",
    "    dt=T/N\n",
    "    nudt=(r-0.5*vol**2)*dt\n",
    "    volsdt=vol*np.sqrt(dt)\n",
    "    erdt=np.exp(-r*dt)\n",
    "\n",
    "    sum_CT=0\n",
    "    sum_CT2=0\n",
    "\n",
    "    for i in range(M):\n",
    "        BARRIER=False\n",
    "        St=S0\n",
    "    \n",
    "        for j in range (N):\n",
    "            epsilon=np.random.normal()\n",
    "            Stn=St*np.exp(nudt+volsdt*epsilon)\n",
    "            St=Stn\n",
    "        \n",
    "            if St>=H:\n",
    "                BARRIER=True\n",
    "                break\n",
    "        \n",
    "        if BARRIER:\n",
    "            CT=0\n",
    "        else:\n",
    "            CT=max(0,K-St)\n",
    "            \n",
    "        sum_CT=sum_CT+CT\n",
    "        sum_CT2=sum_CT2+CT*CT\n",
    "    \n",
    "    C0=np.exp(-r*T)*sum_CT/M\n",
    "    sigma=np.sqrt((sum_CT2-sum_CT*sum_CT/M)*np.exp(-2*r*T)/(M-1))\n",
    "    SE=sigma/np.sqrt(M)    #Compute the standard error\n",
    "    \n",
    "    return (C0, SE)"
   ]
  },
  {
   "cell_type": "code",
   "execution_count": 12,
   "id": "41731179",
   "metadata": {},
   "outputs": [
    {
     "data": {
      "text/plain": [
       "(5.236074801556796, 0.27345184419499585)"
      ]
     },
     "execution_count": 12,
     "metadata": {},
     "output_type": "execute_result"
    }
   ],
   "source": [
    "monte_carlo_pricing(100, 100, 1, 125, 0.06, 0.2, 100, 1000)"
   ]
  },
  {
   "cell_type": "markdown",
   "id": "a7f3a75e",
   "metadata": {},
   "source": [
    "### Price a Digit option"
   ]
  },
  {
   "cell_type": "code",
   "execution_count": 13,
   "id": "0f33f1c6",
   "metadata": {},
   "outputs": [],
   "source": [
    "def digit_option(S0, K, T, r, vol, N, M, opttype='C'):\n",
    "    dt=T/N\n",
    "    nudt=(r-0.5*vol**2)*dt\n",
    "    volsdt=vol*np.sqrt(dt)\n",
    "    erdt=np.exp(-r*dt)\n",
    "\n",
    "    sum_CT=0\n",
    "    sum_CT2=0\n",
    "\n",
    "    for i in range(M):\n",
    "        St=S0\n",
    "        CT=0\n",
    "    \n",
    "        for j in range (N):\n",
    "            epsilon=np.random.normal()\n",
    "            Stn=St*np.exp(nudt+volsdt*epsilon)\n",
    "            St=Stn\n",
    "        \n",
    "        if opttype=='C':\n",
    "            if St>=K:\n",
    "                CT=1\n",
    "        \n",
    "        else:\n",
    "            if St<K:\n",
    "                CT=1\n",
    "    \n",
    "        sum_CT=sum_CT+CT\n",
    "        sum_CT2=sum_CT2+CT*CT\n",
    "    \n",
    "    C0=np.exp(-r*T)*sum_CT/M\n",
    "    sigma=np.sqrt((sum_CT2-sum_CT*sum_CT/M)*np.exp(-2*r*T)/(M-1))\n",
    "    SE=sigma/np.sqrt(M)    #Compute the standard error\n",
    "    \n",
    "    return C0"
   ]
  },
  {
   "cell_type": "code",
   "execution_count": 14,
   "id": "fcba093c",
   "metadata": {},
   "outputs": [
    {
     "data": {
      "text/plain": [
       "0.3468449875339887"
      ]
     },
     "execution_count": 14,
     "metadata": {},
     "output_type": "execute_result"
    }
   ],
   "source": [
    "digit_option(100, 110, 1, 0.04, 0.2, 100, 1000)"
   ]
  },
  {
   "cell_type": "markdown",
   "id": "0ef2db58",
   "metadata": {},
   "source": [
    "### Up-and-in barrier option"
   ]
  },
  {
   "cell_type": "code",
   "execution_count": 15,
   "id": "4ee65da9",
   "metadata": {},
   "outputs": [],
   "source": [
    "def up_and_in_call(S0, K, H, T, r, vol, N, M):\n",
    "    dt=T/N\n",
    "    nudt=(r-0.5*vol**2)*dt\n",
    "    volsdt=vol*np.sqrt(dt)\n",
    "    erdt=np.exp(-r*dt)\n",
    "\n",
    "    sum_CT=0\n",
    "    sum_CT2=0\n",
    "\n",
    "    for i in range(M):\n",
    "        BARRIER=False\n",
    "        St=S0\n",
    "    \n",
    "        for j in range (N):\n",
    "            epsilon=np.random.normal()\n",
    "            Stn=St*np.exp(nudt+volsdt*epsilon)\n",
    "            St=Stn\n",
    "        \n",
    "            if St>=H:\n",
    "                BARRIER=True\n",
    "        \n",
    "        if BARRIER:\n",
    "            CT=max(0,St-K)\n",
    "        else:\n",
    "            CT=0\n",
    "            \n",
    "        sum_CT=sum_CT+CT\n",
    "        sum_CT2=sum_CT2+CT*CT\n",
    "    \n",
    "    C0=np.exp(-r*T)*sum_CT/M\n",
    "    sigma=np.sqrt((sum_CT2-sum_CT*sum_CT/M)*np.exp(-2*r*T)/(M-1))\n",
    "    SE=sigma/np.sqrt(M)    #Compute the standard error\n",
    "    \n",
    "    return C0"
   ]
  },
  {
   "cell_type": "code",
   "execution_count": 16,
   "id": "d484a200",
   "metadata": {
    "scrolled": true
   },
   "outputs": [
    {
     "data": {
      "text/plain": [
       "4.8157638728167225"
      ]
     },
     "execution_count": 16,
     "metadata": {},
     "output_type": "execute_result"
    }
   ],
   "source": [
    "up_and_in_call(130, 130, 150, 1, 0.04, 0.1, 100, 1000)"
   ]
  },
  {
   "cell_type": "markdown",
   "id": "2effba24",
   "metadata": {},
   "source": [
    "### Up-and-out barrier option"
   ]
  },
  {
   "cell_type": "code",
   "execution_count": 17,
   "id": "bce5428e",
   "metadata": {},
   "outputs": [],
   "source": [
    "def up_and_out_call(S0, K, H, T, r, vol, N, M, rebate=False, rebate_percent=0):\n",
    "    dt=T/N\n",
    "    nudt=(r-0.5*vol**2)*dt\n",
    "    volsdt=vol*np.sqrt(dt)\n",
    "    erdt=np.exp(-r*dt)\n",
    "\n",
    "    sum_CT=0\n",
    "    sum_CT2=0\n",
    "\n",
    "    for i in range(M):\n",
    "        BARRIER=False\n",
    "        St=S0\n",
    "    \n",
    "        for j in range (N):\n",
    "            epsilon=np.random.normal()\n",
    "            Stn=St*np.exp(nudt+volsdt*epsilon)\n",
    "            St=Stn\n",
    "        \n",
    "            if St>=H:\n",
    "                BARRIER=True\n",
    "                break\n",
    "        \n",
    "        if BARRIER:\n",
    "            if rebate:\n",
    "                CT=rebate_percent*max(0,H-K)\n",
    "            else:\n",
    "                CT=0\n",
    "        else:\n",
    "            CT=max(0,St-K)\n",
    "            \n",
    "        sum_CT=sum_CT+CT\n",
    "        sum_CT2=sum_CT2+CT*CT\n",
    "    \n",
    "    C0=np.exp(-r*T)*sum_CT/M\n",
    "    sigma=np.sqrt((sum_CT2-sum_CT*sum_CT/M)*np.exp(-2*r*T)/(M-1))\n",
    "    SE=sigma/np.sqrt(M)    #Compute the standard error\n",
    "    \n",
    "    return C0"
   ]
  },
  {
   "cell_type": "code",
   "execution_count": 18,
   "id": "56dd46f0",
   "metadata": {},
   "outputs": [
    {
     "data": {
      "text/plain": [
       "3.78496557592553"
      ]
     },
     "execution_count": 18,
     "metadata": {},
     "output_type": "execute_result"
    }
   ],
   "source": [
    "up_and_out_call(130, 130, 150, 1, 0.04, 0.1, 100, 1000, rebate=True, rebate_percent=0.1)"
   ]
  },
  {
   "cell_type": "code",
   "execution_count": 19,
   "id": "70ffa468",
   "metadata": {},
   "outputs": [
    {
     "data": {
      "text/plain": [
       "3.197928216315877"
      ]
     },
     "execution_count": 19,
     "metadata": {},
     "output_type": "execute_result"
    }
   ],
   "source": [
    "up_and_out_call(130, 130, 150, 1, 0.04, 0.1, 100, 1000)"
   ]
  },
  {
   "cell_type": "markdown",
   "id": "8fb8b8a7",
   "metadata": {},
   "source": [
    "### Down-and-in barrier option"
   ]
  },
  {
   "cell_type": "code",
   "execution_count": 20,
   "id": "e63f6ba6",
   "metadata": {},
   "outputs": [],
   "source": [
    "def down_and_in_put(S0, K, H, T, r, vol, N, M):\n",
    "    dt=T/N\n",
    "    nudt=(r-0.5*vol**2)*dt\n",
    "    volsdt=vol*np.sqrt(dt)\n",
    "    erdt=np.exp(-r*dt)\n",
    "\n",
    "    sum_CT=0\n",
    "    sum_CT2=0\n",
    "\n",
    "    for i in range(M):\n",
    "        BARRIER=False\n",
    "        St=S0\n",
    "    \n",
    "        for j in range (N):\n",
    "            epsilon=np.random.normal()\n",
    "            Stn=St*np.exp(nudt+volsdt*epsilon)\n",
    "            St=Stn\n",
    "        \n",
    "            if St<=H:\n",
    "                BARRIER=True\n",
    "        \n",
    "        if BARRIER:\n",
    "            CT=max(0,K-St)\n",
    "        else:\n",
    "            CT=0\n",
    "            \n",
    "        sum_CT=sum_CT+CT\n",
    "        sum_CT2=sum_CT2+CT*CT\n",
    "    \n",
    "    C0=np.exp(-r*T)*sum_CT/M\n",
    "    sigma=np.sqrt((sum_CT2-sum_CT*sum_CT/M)*np.exp(-2*r*T)/(M-1))\n",
    "    SE=sigma/np.sqrt(M)    #Compute the standard error\n",
    "    \n",
    "    return C0"
   ]
  },
  {
   "cell_type": "code",
   "execution_count": 21,
   "id": "e6cbdf6f",
   "metadata": {},
   "outputs": [
    {
     "data": {
      "text/plain": [
       "0.1274447280592388"
      ]
     },
     "execution_count": 21,
     "metadata": {},
     "output_type": "execute_result"
    }
   ],
   "source": [
    "down_and_in_put(130, 130, 100, 1, 0.04, 0.1, 100, 1000)"
   ]
  },
  {
   "cell_type": "markdown",
   "id": "cf569aef",
   "metadata": {},
   "source": [
    "### Down-and-out barrier option"
   ]
  },
  {
   "cell_type": "code",
   "execution_count": 22,
   "id": "577aec13",
   "metadata": {},
   "outputs": [],
   "source": [
    "def down_and_out_put(S0, K, H, T, r, vol, N, M):\n",
    "    dt=T/N\n",
    "    nudt=(r-0.5*vol**2)*dt\n",
    "    volsdt=vol*np.sqrt(dt)\n",
    "    erdt=np.exp(-r*dt)\n",
    "\n",
    "    sum_CT=0\n",
    "    sum_CT2=0\n",
    "\n",
    "    for i in range(M):\n",
    "        BARRIER=False\n",
    "        St=S0\n",
    "    \n",
    "        for j in range (N):\n",
    "            epsilon=np.random.normal()\n",
    "            Stn=St*np.exp(nudt+volsdt*epsilon)\n",
    "            St=Stn\n",
    "        \n",
    "            if St<=H:\n",
    "                BARRIER=True\n",
    "                break\n",
    "        \n",
    "        if BARRIER:\n",
    "            CT=0\n",
    "        else:\n",
    "            CT=max(0,K-St)\n",
    "            \n",
    "        sum_CT=sum_CT+CT\n",
    "        sum_CT2=sum_CT2+CT*CT\n",
    "    \n",
    "    C0=np.exp(-r*T)*sum_CT/M\n",
    "    sigma=np.sqrt((sum_CT2-sum_CT*sum_CT/M)*np.exp(-2*r*T)/(M-1))\n",
    "    SE=sigma/np.sqrt(M)    #Compute the standard error\n",
    "    \n",
    "    return C0"
   ]
  },
  {
   "cell_type": "markdown",
   "id": "2775a025",
   "metadata": {},
   "source": [
    "### Price a Ladder option"
   ]
  },
  {
   "cell_type": "code",
   "execution_count": 23,
   "id": "9e44f1f5",
   "metadata": {},
   "outputs": [],
   "source": [
    "def ladder_option(S0, strikes, barriers, T, r, vol, N, M, rebates):\n",
    "    dt=T/N\n",
    "    nudt=(r-0.5*vol**2)*dt\n",
    "    volsdt=vol*np.sqrt(dt)\n",
    "    erdt=np.exp(-r*dt)\n",
    "\n",
    "    sum_CT=0\n",
    "    sum_CT2=0\n",
    "\n",
    "    for i in range(M):\n",
    "        St=S0\n",
    "        rebate_total=0\n",
    "        for level in range (len(strikes)):\n",
    "            BARRIER=False\n",
    "    \n",
    "            for j in range (N):\n",
    "                epsilon=np.random.normal()\n",
    "                Stn=St*np.exp(nudt+volsdt*epsilon)\n",
    "                St=Stn\n",
    "        \n",
    "                if level < len(barriers) and St>=barriers[level]:\n",
    "                    BARRIER=True\n",
    "                    break\n",
    "        \n",
    "            if BARRIER:\n",
    "                rebate_total+=rebates[level]*max(0,barriers[level]-strikes[level])\n",
    "                continue\n",
    "                \n",
    "            else:\n",
    "                payoff=max(0,St-strikes[level])\n",
    "                rebate_total+=payoff\n",
    "            \n",
    "        sum_CT+=rebate_total\n",
    "        sum_CT2+=rebate_total**2\n",
    "    \n",
    "    C0=np.exp(-r*T)*sum_CT/M\n",
    "    sigma=np.sqrt((sum_CT2-sum_CT*sum_CT/M)*np.exp(-2*r*T)/(M-1))\n",
    "    SE=sigma/np.sqrt(M)    #Compute the standard error\n",
    "    \n",
    "    return C0"
   ]
  },
  {
   "cell_type": "code",
   "execution_count": 24,
   "id": "ee2437fc",
   "metadata": {},
   "outputs": [
    {
     "data": {
      "text/plain": [
       "5.203286376030618"
      ]
     },
     "execution_count": 24,
     "metadata": {},
     "output_type": "execute_result"
    }
   ],
   "source": [
    "ladder_option(100, [100, 105, 110], [105, 110], 1, 0.04, 0.1, 100, 1000, [0.05, 0.05])"
   ]
  },
  {
   "cell_type": "markdown",
   "id": "6ce24861",
   "metadata": {},
   "source": [
    "### Price a Lookback option"
   ]
  },
  {
   "cell_type": "code",
   "execution_count": 25,
   "id": "758eb47a",
   "metadata": {},
   "outputs": [],
   "source": [
    "def fixed_strike_lookback_ladder(S0, K, T, r, vol, N, M, tick=0.01, rebate_value=0.01, opttype='C'):\n",
    "    #Pricing lookback option with fixed strike as a ladder option\n",
    "    dt = T / N\n",
    "    nudt = (r - 0.5 * vol**2) * dt\n",
    "    volsdt = vol * np.sqrt(dt)\n",
    "    erdt = np.exp(-r * dt)\n",
    "\n",
    "    # Création des strikes ladder\n",
    "    strikes = np.arange(K, K + tick * (N + 1), tick)    \n",
    "    rebates=(len(strikes)-1)*[rebate_value]\n",
    "    \n",
    "    sum_CT = 0\n",
    "    sum_CT2 = 0\n",
    "    \n",
    "    for i in range(M):\n",
    "        St = S0\n",
    "        rebate_sum = 0\n",
    "        \n",
    "        for j in range(N):\n",
    "            epsilon = np.random.normal()\n",
    "            Stn = St * np.exp(nudt + volsdt * epsilon)\n",
    "            St = Stn\n",
    "            \n",
    "            if opttype == 'C':  # Option Call\n",
    "                for i in range(len(strikes) - 1):\n",
    "                    if St >= strikes[i + 1]:\n",
    "                        rebate_sum += rebates[i]\n",
    "                        break\n",
    "            else:  # Option Put\n",
    "                for i in range(len(strikes) - 1):\n",
    "                    if St <= strikes[i]:\n",
    "                        rebate_sum += rebates[i]\n",
    "                        break\n",
    "        \n",
    "        if opttype == 'C':\n",
    "            CT = max(0, St - K) + rebate_sum\n",
    "        else:\n",
    "            CT = max(0, K - St) + rebate_sum\n",
    "        \n",
    "        sum_CT += CT\n",
    "        sum_CT2 += CT**2\n",
    "    \n",
    "    C0 = np.exp(-r * T) * sum_CT / M\n",
    "    return C0"
   ]
  },
  {
   "cell_type": "code",
   "execution_count": 28,
   "id": "ec535749",
   "metadata": {},
   "outputs": [
    {
     "data": {
      "text/plain": [
       "1.6381070442632737"
      ]
     },
     "execution_count": 28,
     "metadata": {},
     "output_type": "execute_result"
    }
   ],
   "source": [
    "fixed_strike_lookback_ladder(100, 130, 1, 0.04, 0.2, 100, 10000, tick=0.01, rebate_value=0.01, opttype='C')"
   ]
  },
  {
   "cell_type": "code",
   "execution_count": 29,
   "id": "eb997065",
   "metadata": {},
   "outputs": [],
   "source": [
    "def fixed_strike_lookback(S0, K, T, r, vol, N, M, opttype='C'):\n",
    "    #Pricing lookback optionwith fixed strike using Monte Carlo process\n",
    "    dt=T/N\n",
    "    nudt=(r-0.5*vol**2)*dt\n",
    "    volsdt=vol*np.sqrt(dt)\n",
    "    erdt=np.exp(-r*dt)\n",
    "\n",
    "    sum_CT=0\n",
    "    sum_CT2=0\n",
    "\n",
    "    for i in range(M):\n",
    "        max_price=S0\n",
    "        min_price=S0\n",
    "        St=S0\n",
    "    \n",
    "        for j in range (N):\n",
    "            epsilon=np.random.normal()\n",
    "            Stn=St*np.exp(nudt+volsdt*epsilon)\n",
    "            St=Stn\n",
    "            max_price=max(max_price, St)\n",
    "            min_price=min(min_price, St)\n",
    "                \n",
    "        if opttype=='C':     #it's a call option\n",
    "            CT=max(0,max_price-K)\n",
    "        else:                #it's a put option\n",
    "            CT=max(0,K-min_price)      \n",
    "        \n",
    "        sum_CT+=CT\n",
    "        sum_CT2+=CT**2\n",
    "    \n",
    "    C0=np.exp(-r*T)*sum_CT/M\n",
    "    sigma=np.sqrt((sum_CT2-sum_CT*sum_CT/M)*np.exp(-2*r*T)/(M-1))\n",
    "    SE=sigma/np.sqrt(M)    #Compute the standard error\n",
    "    \n",
    "    return C0"
   ]
  },
  {
   "cell_type": "code",
   "execution_count": 30,
   "id": "93c44ebc",
   "metadata": {},
   "outputs": [
    {
     "data": {
      "text/plain": [
       "2.411799074777679"
      ]
     },
     "execution_count": 30,
     "metadata": {},
     "output_type": "execute_result"
    }
   ],
   "source": [
    "fixed_strike_lookback(100, 130, 1, 0.04, 0.2, 100, 10000, opttype='C')"
   ]
  },
  {
   "cell_type": "code",
   "execution_count": 31,
   "id": "ee8fa102",
   "metadata": {},
   "outputs": [
    {
     "data": {
      "text/plain": [
       "18.405303808775663"
      ]
     },
     "execution_count": 31,
     "metadata": {},
     "output_type": "execute_result"
    }
   ],
   "source": [
    "fixed_strike_lookback(100, 100, 1, 0.06, 0.2, 100, 10000, opttype='C')"
   ]
  },
  {
   "cell_type": "code",
   "execution_count": 32,
   "id": "c5201f65",
   "metadata": {},
   "outputs": [],
   "source": [
    "def floating_strike_lookback(S0, T, r, vol, N, M, opttype='C'):\n",
    "    #Pricing lookback option with floating strike using Monte Carlo process\n",
    "    dt=T/N\n",
    "    nudt=(r-0.5*vol**2)*dt\n",
    "    volsdt=vol*np.sqrt(dt)\n",
    "    erdt=np.exp(-r*dt)\n",
    "\n",
    "    sum_CT=0\n",
    "    sum_CT2=0\n",
    "\n",
    "    for i in range(M):\n",
    "        K=S0\n",
    "        St=S0\n",
    "    \n",
    "        for j in range (N):\n",
    "            epsilon=np.random.normal()\n",
    "            Stn=St*np.exp(nudt+volsdt*epsilon)\n",
    "            St=Stn\n",
    "            if opttype=='C':\n",
    "                K=min(K, St)\n",
    "            else:\n",
    "                K=max(K, St)\n",
    "                \n",
    "        if opttype=='C':     #it's a call option\n",
    "            CT=max(0,St-K)\n",
    "        else:                #it's a put option\n",
    "            CT=max(0,K-St)      \n",
    "        \n",
    "        sum_CT+=CT\n",
    "        sum_CT2+=CT**2\n",
    "    \n",
    "    C0=np.exp(-r*T)*sum_CT/M\n",
    "    sigma=np.sqrt((sum_CT2-sum_CT*sum_CT/M)*np.exp(-2*r*T)/(M-1))\n",
    "    SE=sigma/np.sqrt(M)    #Compute the standard error\n",
    "    \n",
    "    return C0"
   ]
  },
  {
   "cell_type": "code",
   "execution_count": 33,
   "id": "1b1d31aa",
   "metadata": {},
   "outputs": [
    {
     "data": {
      "text/plain": [
       "15.805300532911453"
      ]
     },
     "execution_count": 33,
     "metadata": {},
     "output_type": "execute_result"
    }
   ],
   "source": [
    "floating_strike_lookback(100, 1, 0.04, 0.2, 100, 1000, opttype='C')"
   ]
  },
  {
   "cell_type": "markdown",
   "id": "07141fe8",
   "metadata": {},
   "source": [
    "### Knock-in Reverse Convertible"
   ]
  },
  {
   "cell_type": "code",
   "execution_count": 73,
   "id": "0317cf03",
   "metadata": {},
   "outputs": [],
   "source": [
    "def knock_in_reverse_convertible(A, S0, H, c, t, T, r, vol, N, M):     ##t in months\n",
    "    ## Renvoie la valeur d'un coupon en utilisant c la valeur d'une obligation basique\n",
    "    obs=T/(t/12)\n",
    "    V=0\n",
    "    final_discount=1/((1+c)**obs)\n",
    "    for i in range (1,int(obs)+1):\n",
    "        V+=1/((1+c)**i)\n",
    "\n",
    "    P=down_and_in_put(S0, S0, H, T, r, vol, N, M)\n",
    "    \n",
    "    return ((1-final_discount+P/A)/V)*100     ##pour avoir le résultat en pourcentage"
   ]
  },
  {
   "cell_type": "code",
   "execution_count": 74,
   "id": "5a58879d",
   "metadata": {},
   "outputs": [
    {
     "data": {
      "text/plain": [
       "3.177577929746367"
      ]
     },
     "execution_count": 74,
     "metadata": {},
     "output_type": "execute_result"
    }
   ],
   "source": [
    "knock_in_reverse_convertible(100, 100, 80, 0.0175, 6, 2, 0.04, 0.2, 100, 1000)"
   ]
  },
  {
   "cell_type": "markdown",
   "id": "7ce2a5a4",
   "metadata": {},
   "source": [
    "### Autocallable"
   ]
  },
  {
   "cell_type": "code",
   "execution_count": 1,
   "id": "a2addeef",
   "metadata": {},
   "outputs": [],
   "source": [
    "def autocallable (A, S0, H1, H2, H3, c, t, T, r, vol, N, M):\n",
    "    ## H1 est la barrière basse de knock-in, H2 est la barrière pour les coupons\n",
    "    ## et H3 est la barrière haute (de knock-out avec rebate)\n",
    "        \n",
    "    dt=T/N\n",
    "    nudt=(r-0.5*vol**2)*dt\n",
    "    volsdt=vol*np.sqrt(dt)\n",
    "    erdt=np.exp(-r*dt)\n",
    "    obs=int(N/(t/12))\n",
    "\n",
    "    sum_CT=0\n",
    "    sum_CT2=0\n",
    "\n",
    "    for i in range(M):\n",
    "        St=S0\n",
    "        knocked_out=False\n",
    "        knocked_in=False\n",
    "        CT=0\n",
    "    \n",
    "        for j in range (N):\n",
    "            epsilon=np.random.normal()\n",
    "            Stn=St*np.exp(nudt+volsdt*epsilon)\n",
    "            St=Stn\n",
    "            \n",
    "            ##Down and in put option à H1\n",
    "            if St<H1:\n",
    "                knocked_in=True\n",
    "\n",
    "            if (j+1)%obs==0:\n",
    "\n",
    "                if St>=H3:\n",
    "                    knocked_out=True\n",
    "                    break\n",
    "                \n",
    "                CT+=call_spread(S0, H2-c*100, H2, (T - (j+1) * dt), r, vol)\n",
    "        \n",
    "        if knocked_in:\n",
    "            CT+= -max(0,S0-St)\n",
    "        \n",
    "        if knocked_out or St>H1:\n",
    "            CT+=A    \n",
    "        \n",
    "        sum_CT+=CT\n",
    "        sum_CT2+=CT**2\n",
    "    \n",
    "    C0=np.exp(-r*T)*sum_CT/M\n",
    "    sigma=np.sqrt((sum_CT2-sum_CT*sum_CT/M)*np.exp(-2*r*T)/(M-1))\n",
    "    SE=sigma/np.sqrt(M)    #Compute the standard error\n",
    "    return C0"
   ]
  },
  {
   "cell_type": "code",
   "execution_count": 5,
   "id": "b31a3df4",
   "metadata": {},
   "outputs": [
    {
     "data": {
      "text/plain": [
       "66.24523004863457"
      ]
     },
     "execution_count": 5,
     "metadata": {},
     "output_type": "execute_result"
    }
   ],
   "source": [
    "autocallable(100, 100, 80, 90, 110, 0.04, 6, 2, 0.02, 0.2, 100, 1000)"
   ]
  },
  {
   "cell_type": "code",
   "execution_count": 83,
   "id": "fb63c384",
   "metadata": {},
   "outputs": [],
   "source": [
    "def autocallable_unconditional (A, S0, H1, H2, H3, c, t, T, r, vol, N, M):\n",
    "    ## H1 est la barrière basse de knock-in, H2 est la barrière pour les coupons\n",
    "    ## et H3 est la barrière haute (de knock-out avec rebate)\n",
    "        \n",
    "    dt=T/N\n",
    "    nudt=(r-0.5*vol**2)*dt\n",
    "    volsdt=vol*np.sqrt(dt)\n",
    "    erdt=np.exp(-r*dt)\n",
    "    obs=int(N/(t/12))\n",
    "\n",
    "    sum_CT=0\n",
    "    sum_CT2=0\n",
    "\n",
    "    for i in range(M):\n",
    "        St=S0\n",
    "        knocked_out=False\n",
    "        knocked_in=False\n",
    "        CT=0\n",
    "        total_coupon=0\n",
    "    \n",
    "        for j in range (N):\n",
    "            epsilon=np.random.normal()\n",
    "            Stn=St*np.exp(nudt+volsdt*epsilon)\n",
    "            St=Stn\n",
    "            \n",
    "            ##Down and in put option à H1\n",
    "            if St<H1:\n",
    "                knocked_in=True\n",
    "\n",
    "            if (j+1)%obs==0:\n",
    "                total_coupon+=c\n",
    "\n",
    "                if St>=H3:\n",
    "                    knocked_out=True\n",
    "                    CT=A+A*total_coupon\n",
    "                    break\n",
    "                \n",
    "                CT+=call_spread(S0, H2-c*100, H2, (T - (j+1) * dt), r, vol)\n",
    "        \n",
    "        if knocked_in:\n",
    "            CT+= -max(0,S0-St)\n",
    "        \n",
    "        if not knocked_out:\n",
    "            CT+=A+A*total_coupon  \n",
    "        \n",
    "        sum_CT+=CT\n",
    "        sum_CT2+=CT**2\n",
    "    \n",
    "    C0=np.exp(-r*T)*sum_CT/M\n",
    "    sigma=np.sqrt((sum_CT2-sum_CT*sum_CT/M)*np.exp(-2*r*T)/(M-1))\n",
    "    SE=sigma/np.sqrt(M)    #Compute the standard error\n",
    "    return C0"
   ]
  },
  {
   "cell_type": "code",
   "execution_count": 84,
   "id": "93cd480a",
   "metadata": {},
   "outputs": [
    {
     "data": {
      "text/plain": [
       "87.02052656930199"
      ]
     },
     "execution_count": 84,
     "metadata": {},
     "output_type": "execute_result"
    }
   ],
   "source": [
    "autocallable_unconditional(100, 100, 80, 90, 110, 0.04, 6, 2, 0.02, 0.2, 100, 1000)"
   ]
  },
  {
   "cell_type": "markdown",
   "id": "b5153f1d",
   "metadata": {},
   "source": [
    "### Asian option"
   ]
  },
  {
   "cell_type": "code",
   "execution_count": 67,
   "id": "d090a5b9",
   "metadata": {},
   "outputs": [],
   "source": [
    "def asian_out_artihmetic_option(S0, K, T1, T2, r, vol, N, M):\n",
    "    #Pricing Asian (arithmetic) out option\n",
    "    dt=(T2-T1)/N\n",
    "    nudt=(r-0.5*vol**2)*dt\n",
    "    volsdt=vol*np.sqrt(dt)\n",
    "    erdt=np.exp(-r*dt)\n",
    "\n",
    "    sum_CT=0\n",
    "    sum_CT2=0\n",
    "\n",
    "    for i in range(M):\n",
    "        St=S0\n",
    "        At_sum=0\n",
    "    \n",
    "        for j in range (N):\n",
    "            epsilon=np.random.normal()\n",
    "            Stn=St*np.exp(nudt+volsdt*epsilon)\n",
    "            St=Stn\n",
    "            At_sum+=St\n",
    "            \n",
    "        A=At_sum/N\n",
    "        CT=np.max(A-K, 0)\n",
    "        \n",
    "        sum_CT+=CT\n",
    "        sum_CT2+=CT**2\n",
    "    \n",
    "    C0=np.exp(-r*T2)*sum_CT/M\n",
    "    sigma=np.sqrt((sum_CT2-sum_CT*sum_CT/M)*np.exp(-2*r*T2)/(M-1))\n",
    "    SE=sigma/np.sqrt(M)    #Compute the standard error\n",
    "    \n",
    "    return C0"
   ]
  },
  {
   "cell_type": "code",
   "execution_count": 68,
   "id": "9090090c",
   "metadata": {},
   "outputs": [
    {
     "data": {
      "text/plain": [
       "2.1092622790715576"
      ]
     },
     "execution_count": 68,
     "metadata": {},
     "output_type": "execute_result"
    }
   ],
   "source": [
    "asian_out_artihmetic_option(100, 0, 1, 0.04, 0.2, 100, 1000)"
   ]
  },
  {
   "cell_type": "code",
   "execution_count": 69,
   "id": "39d6a81c",
   "metadata": {},
   "outputs": [],
   "source": [
    "#Antithetic technique : to improve accuracy\n",
    "def asian_out_option_antithetic(S0, T1, T2, r, vol, N, M):\n",
    "    #Pricing Asian (arithmetic) out option\n",
    "    dt=(T2-T1)/N\n",
    "    nudt=(r-0.5*vol**2)*dt\n",
    "    volsdt=vol*np.sqrt(dt)\n",
    "    erdt=np.exp(-r*dt)\n",
    "\n",
    "    sum_CT=0\n",
    "    sum_CT2=0\n",
    "\n",
    "    for i in range(M):\n",
    "        St=S0\n",
    "        At1_sum=0\n",
    "        At2_sum=0\n",
    "    \n",
    "        for j in range (N):\n",
    "            epsilon=np.random.normal()\n",
    "            Stn1=St*np.exp(nudt+volsdt*epsilon)\n",
    "            Stn2=St*np.exp(nudt-volsdt*epsilon)\n",
    "            St1=Stn1\n",
    "            St2=Stn2\n",
    "            At1_sum+=St1\n",
    "            At2_sum+=St2\n",
    "            \n",
    "        A1=At1_sum/N\n",
    "        A2=At2_sum/N\n",
    "        CT=(np.max(A1-K, 0)+np.max(A2-K, 0))/2\n",
    "        \n",
    "        sum_CT+=CT\n",
    "        sum_CT2+=CT**2\n",
    "    \n",
    "    C0=np.exp(-r*T2)*sum_CT/M\n",
    "    sigma=np.sqrt((sum_CT2-sum_CT*sum_CT/M)*np.exp(-2*r*T2)/(M-1))\n",
    "    SE=sigma/np.sqrt(M)    #Compute the standard error\n",
    "    \n",
    "    return C0"
   ]
  },
  {
   "cell_type": "code",
   "execution_count": 70,
   "id": "cfc44164",
   "metadata": {},
   "outputs": [
    {
     "data": {
      "text/plain": [
       "0.03849506586989446"
      ]
     },
     "execution_count": 70,
     "metadata": {},
     "output_type": "execute_result"
    }
   ],
   "source": [
    "asian_out_option_antithetic(100, 0, 1, 0.04, 0.2, 100, 1000)"
   ]
  },
  {
   "cell_type": "code",
   "execution_count": 71,
   "id": "8180476e",
   "metadata": {},
   "outputs": [],
   "source": [
    "def asian_out_geometric_option(S0, K, T1, T2, r, vol, N, M):\n",
    "    #Pricing Asian (geometric) out option\n",
    "    dt=(T2-T1)/N\n",
    "    nudt=(r-0.5*vol**2)*dt\n",
    "    volsdt=vol*np.sqrt(dt)\n",
    "    erdt=np.exp(-r*dt)\n",
    "\n",
    "    sum_CT=0\n",
    "    sum_CT2=0\n",
    "\n",
    "    for i in range(M):\n",
    "        St=S0\n",
    "        GT=1\n",
    "    \n",
    "        for j in range (N):\n",
    "            epsilon=np.random.normal()\n",
    "            Stn=St*np.exp(nudt+volsdt*epsilon)\n",
    "            St=Stn\n",
    "            GT=GT*St\n",
    "            \n",
    "        G=GT**(1/N)\n",
    "        CT=np.max(G-K, 0)\n",
    "        \n",
    "        sum_CT+=CT\n",
    "        sum_CT2+=CT**2\n",
    "    \n",
    "    C0=np.exp(-r*T2)*sum_CT/M\n",
    "    sigma=np.sqrt((sum_CT2-sum_CT*sum_CT/M)*np.exp(-2*r*T2)/(M-1))\n",
    "    SE=sigma/np.sqrt(M)    #Compute the standard error\n",
    "    \n",
    "    return C0"
   ]
  },
  {
   "cell_type": "code",
   "execution_count": 72,
   "id": "47eb5d1b",
   "metadata": {},
   "outputs": [
    {
     "data": {
      "text/plain": [
       "2.4645958400165267"
      ]
     },
     "execution_count": 72,
     "metadata": {},
     "output_type": "execute_result"
    }
   ],
   "source": [
    "asian_out_geometric_option(100, 0, 1, 0.04, 0.2, 100, 1000)"
   ]
  }
 ],
 "metadata": {
  "kernelspec": {
   "display_name": "base",
   "language": "python",
   "name": "python3"
  },
  "language_info": {
   "codemirror_mode": {
    "name": "ipython",
    "version": 3
   },
   "file_extension": ".py",
   "mimetype": "text/x-python",
   "name": "python",
   "nbconvert_exporter": "python",
   "pygments_lexer": "ipython3",
   "version": "3.10.9"
  }
 },
 "nbformat": 4,
 "nbformat_minor": 5
}
