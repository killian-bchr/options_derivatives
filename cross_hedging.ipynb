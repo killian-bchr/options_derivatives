{
 "cells": [
  {
   "cell_type": "code",
   "execution_count": 1,
   "metadata": {},
   "outputs": [],
   "source": [
    "import numpy as np\n",
    "import matplotlib.pyplot as plt\n",
    "import options_trading as opt\n",
    "import yfinance as yf\n",
    "%load_ext autoreload\n",
    "%autoreload 2"
   ]
  },
  {
   "cell_type": "markdown",
   "metadata": {},
   "source": [
    "### Symboles de Futures contracts sur yfinance\n",
    "##### -----------------------------------------\n",
    "##### S&P 500 E-Mini Futures : \"ES=F\"\n",
    "##### Nasdaq-100 E-Mini Futures : \"NQ=F\"\n",
    "##### Pétrole Brut (WTI) : \"CL=F\"\n",
    "##### Or : \"GC=F\"\n",
    "##### Argent : \"SI=F\""
   ]
  },
  {
   "cell_type": "markdown",
   "metadata": {},
   "source": [
    "### Historical Data"
   ]
  },
  {
   "cell_type": "code",
   "execution_count": 8,
   "metadata": {},
   "outputs": [
    {
     "name": "stderr",
     "output_type": "stream",
     "text": [
      "[*********************100%%**********************]  1 of 1 completed\n"
     ]
    },
    {
     "data": {
      "text/plain": [
       "Date\n",
       "2024-01-02           NaN\n",
       "2024-01-03    184.938217\n",
       "2024-01-04    183.553467\n",
       "2024-01-05    181.222336\n",
       "2024-01-08    180.495071\n",
       "                 ...    \n",
       "2024-10-21    235.000000\n",
       "2024-10-22    236.479996\n",
       "2024-10-23    235.860001\n",
       "2024-10-24    230.759995\n",
       "2024-10-25    230.570007\n",
       "Name: Adj Close, Length: 207, dtype: float64"
      ]
     },
     "execution_count": 8,
     "metadata": {},
     "output_type": "execute_result"
    }
   ],
   "source": [
    "yf.download('AAPL', start='2024-01-01')['Adj Close'].shift(1)"
   ]
  },
  {
   "cell_type": "code",
   "execution_count": 18,
   "metadata": {},
   "outputs": [
    {
     "name": "stderr",
     "output_type": "stream",
     "text": [
      "[*********************100%%**********************]  1 of 1 completed\n"
     ]
    },
    {
     "data": {
      "text/plain": [
       "0.23478046044097464"
      ]
     },
     "execution_count": 18,
     "metadata": {},
     "output_type": "execute_result"
    }
   ],
   "source": [
    "share=yf.download('AAPL', start='2024-01-01')\n",
    "share.dropna(inplace=True)\n",
    "share.ffill(inplace=True)\n",
    "share['Log Return']=np.log(share['Adj Close']/share['Adj Close'].shift(1))\n",
    "share_var=share['Log Return'].std()*np.sqrt(252)\n",
    "share_var"
   ]
  },
  {
   "cell_type": "code",
   "execution_count": 19,
   "metadata": {},
   "outputs": [
    {
     "name": "stderr",
     "output_type": "stream",
     "text": [
      "[*********************100%%**********************]  1 of 1 completed\n"
     ]
    },
    {
     "data": {
      "text/plain": [
       "0.1268509214830126"
      ]
     },
     "execution_count": 19,
     "metadata": {},
     "output_type": "execute_result"
    }
   ],
   "source": [
    "futures=yf.download(\"ES=F\", start=\"2024-01-01\")\n",
    "futures.dropna(inplace=True)\n",
    "futures.ffill(inplace=True)\n",
    "futures['Log Return']=np.log(futures['Adj Close']/futures['Adj Close'].shift(1))\n",
    "futures_var=futures['Log Return'].std()*np.sqrt(252)\n",
    "futures_var"
   ]
  },
  {
   "cell_type": "code",
   "execution_count": 20,
   "metadata": {},
   "outputs": [
    {
     "data": {
      "text/plain": [
       "0.5385873278102166"
      ]
     },
     "execution_count": 20,
     "metadata": {},
     "output_type": "execute_result"
    }
   ],
   "source": [
    "rho=share['Log Return'].corr(futures['Log Return'])\n",
    "rho"
   ]
  }
 ],
 "metadata": {
  "kernelspec": {
   "display_name": "base",
   "language": "python",
   "name": "python3"
  },
  "language_info": {
   "codemirror_mode": {
    "name": "ipython",
    "version": 3
   },
   "file_extension": ".py",
   "mimetype": "text/x-python",
   "name": "python",
   "nbconvert_exporter": "python",
   "pygments_lexer": "ipython3",
   "version": "3.10.9"
  }
 },
 "nbformat": 4,
 "nbformat_minor": 2
}
