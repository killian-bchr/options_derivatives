{
 "cells": [
  {
   "cell_type": "code",
   "execution_count": 120,
   "metadata": {},
   "outputs": [
    {
     "name": "stdout",
     "output_type": "stream",
     "text": [
      "The autoreload extension is already loaded. To reload it, use:\n",
      "  %reload_ext autoreload\n"
     ]
    }
   ],
   "source": [
    "import numpy as np\n",
    "import matplotlib.pyplot as plt\n",
    "import options_trading as opt\n",
    "import pandas as pd\n",
    "import yfinance as yf\n",
    "from scipy.optimize import minimize\n",
    "%load_ext autoreload\n",
    "%autoreload 2"
   ]
  },
  {
   "cell_type": "markdown",
   "metadata": {},
   "source": [
    "### Symboles de Futures contracts sur yfinance\n",
    "##### -----------------------------------------\n",
    "##### S&P 500 E-Mini Futures : \"ES=F\"\n",
    "##### Nasdaq-100 E-Mini Futures : \"NQ=F\"\n",
    "##### Pétrole Brut (WTI) : \"CL=F\"\n",
    "##### Or : \"GC=F\"\n",
    "##### Argent : \"SI=F\""
   ]
  },
  {
   "cell_type": "markdown",
   "metadata": {},
   "source": [
    "### Historical Data"
   ]
  },
  {
   "cell_type": "code",
   "execution_count": 121,
   "metadata": {},
   "outputs": [
    {
     "name": "stderr",
     "output_type": "stream",
     "text": [
      "[*********************100%%**********************]  1 of 1 completed\n"
     ]
    },
    {
     "data": {
      "text/plain": [
       "0.23430236799723275"
      ]
     },
     "execution_count": 121,
     "metadata": {},
     "output_type": "execute_result"
    }
   ],
   "source": [
    "share=yf.download('AAPL', start='2024-01-01')\n",
    "share.dropna(inplace=True)\n",
    "share.ffill(inplace=True)\n",
    "share['Log Return']=np.log(share['Adj Close']/share['Adj Close'].shift(1))\n",
    "share_var=share['Log Return'].std()*np.sqrt(252)\n",
    "share_var"
   ]
  },
  {
   "cell_type": "code",
   "execution_count": 122,
   "metadata": {},
   "outputs": [
    {
     "name": "stderr",
     "output_type": "stream",
     "text": [
      "[*********************100%%**********************]  1 of 1 completed\n"
     ]
    },
    {
     "data": {
      "text/plain": [
       "0.12744338623052165"
      ]
     },
     "execution_count": 122,
     "metadata": {},
     "output_type": "execute_result"
    }
   ],
   "source": [
    "futures=yf.download(\"ES=F\", start=\"2024-01-01\")\n",
    "futures.dropna(inplace=True)\n",
    "futures.ffill(inplace=True)\n",
    "futures['Log Return']=np.log(futures['Adj Close']/futures['Adj Close'].shift(1))\n",
    "futures_var=futures['Log Return'].std()*np.sqrt(252)\n",
    "futures_var"
   ]
  },
  {
   "cell_type": "code",
   "execution_count": 123,
   "metadata": {},
   "outputs": [
    {
     "data": {
      "text/plain": [
       "0.5422462009476742"
      ]
     },
     "execution_count": 123,
     "metadata": {},
     "output_type": "execute_result"
    }
   ],
   "source": [
    "rho=share['Log Return'].corr(futures['Log Return'])\n",
    "rho"
   ]
  },
  {
   "cell_type": "code",
   "execution_count": 124,
   "metadata": {},
   "outputs": [
    {
     "data": {
      "text/plain": [
       "0.9969098646651939"
      ]
     },
     "execution_count": 124,
     "metadata": {},
     "output_type": "execute_result"
    }
   ],
   "source": [
    "h = rho*(share_var/futures_var)\n",
    "h"
   ]
  },
  {
   "cell_type": "code",
   "execution_count": 125,
   "metadata": {},
   "outputs": [
    {
     "data": {
      "text/plain": [
       "0.8307582205543284"
      ]
     },
     "execution_count": 125,
     "metadata": {},
     "output_type": "execute_result"
    }
   ],
   "source": [
    "### VA : amount in asset A\n",
    "### VF : amount in futures contracts\n",
    "### Number of contracts to hedge\n",
    "\n",
    "VA=100\n",
    "VF=120\n",
    "\n",
    "N=h*(VA/VF)\n",
    "N"
   ]
  },
  {
   "cell_type": "code",
   "execution_count": 128,
   "metadata": {},
   "outputs": [],
   "source": [
    "def cross_hedge (share_ticker, futures_ticker, QA, QF, start_date = \"2024-01-01\"):\n",
    "    \"\"\"\n",
    "    share_ticker : ticker of share used to hedge the futures\n",
    "    futures_ticker : ticker of the futures to hedge\n",
    "    QA : size of position being hedged\n",
    "    QF : size of futures contract\n",
    "    \"\"\"\n",
    "    ### Compute share variance\n",
    "    share=yf.download(share_ticker, start=start_date)\n",
    "    share.dropna(inplace=True)\n",
    "    share.ffill(inplace=True)\n",
    "    share['Log Return']=np.log(share['Adj Close']/share['Adj Close'].shift(1))\n",
    "    share_var=share['Log Return'].std()*np.sqrt(252)\n",
    "    share_price = share['Adj Close'].iloc[-1]\n",
    "\n",
    "    ### Compute futures variance\n",
    "    futures=yf.download(futures_ticker, start=\"2024-01-01\")\n",
    "    futures.dropna(inplace=True)\n",
    "    futures.ffill(inplace=True)\n",
    "    futures['Log Return']=np.log(futures['Adj Close']/futures['Adj Close'].shift(1))\n",
    "    futures_var=futures['Log Return'].std()*np.sqrt(252)\n",
    "    futures_price = futures['Adj Close'].iloc[-1]\n",
    "\n",
    "\n",
    "    ### Compute correlation between two assets\n",
    "    rho=share['Log Return'].corr(futures['Log Return'])\n",
    "\n",
    "    ### Compute minimum variance hedge ratio\n",
    "    h = rho*(share_var/futures_var)\n",
    "    print(h)\n",
    "\n",
    "    VA = share_price*QA\n",
    "    VF = futures_price*QF\n",
    "\n",
    "    ### Compute the number of contracts to hedge the futures and lock the price\n",
    "    N=h*(VA/VF)\n",
    "\n",
    "    return round(N)"
   ]
  },
  {
   "cell_type": "code",
   "execution_count": 156,
   "metadata": {},
   "outputs": [
    {
     "name": "stderr",
     "output_type": "stream",
     "text": [
      "[*********************100%%**********************]  1 of 1 completed\n",
      "[*********************100%%**********************]  1 of 1 completed"
     ]
    },
    {
     "name": "stdout",
     "output_type": "stream",
     "text": [
      "0.9969097788485114\n"
     ]
    },
    {
     "name": "stderr",
     "output_type": "stream",
     "text": [
      "\n"
     ]
    },
    {
     "data": {
      "text/plain": [
       "4"
      ]
     },
     "execution_count": 156,
     "metadata": {},
     "output_type": "execute_result"
    }
   ],
   "source": [
    "cross_hedge(share_ticker='AAPL', futures_ticker='ES=F', QA=1000000, QF=10000)"
   ]
  },
  {
   "cell_type": "markdown",
   "metadata": {},
   "source": [
    "### Build a portfolio to hedge a futures"
   ]
  },
  {
   "cell_type": "code",
   "execution_count": 158,
   "metadata": {},
   "outputs": [],
   "source": [
    "### The goal is to replicate the futures price in order to hedge the futures\n",
    "def get_normalized_series(series):\n",
    "    return series / series.iloc[0]\n",
    "\n",
    "def get_portfolio_value(df, weights):\n",
    "    value=pd.Series(0, index=df.index)\n",
    "    for i in range (df.shape[1]):\n",
    "        normalized_prices = get_normalized_series(df.iloc[:, i])\n",
    "        value+=weights[i]*normalized_prices\n",
    "    return value\n",
    "\n",
    "def replicate_portfolio (df, weights, futures_prices):\n",
    "    futures_prices_normalized = get_normalized_series(futures_prices)\n",
    "    portfolio_value = get_portfolio_value(df, weights)\n",
    "    aligned_portfolio, aligned_futures = portfolio_value.align(futures_prices_normalized, join='inner')\n",
    "    return abs(aligned_portfolio-aligned_futures)\n",
    "\n",
    "def minimize_portfolio(df, futures_prices):\n",
    "    \"\"\"\n",
    "\n",
    "    \"\"\"\n",
    "    n=df.shape[1]\n",
    "    init_guess = np.repeat(1/n, n)\n",
    "    bounds = ((0.0, 1.0),)*n\n",
    "\n",
    "    def objective(weights):\n",
    "        replication_error = replicate_portfolio(df, weights, futures_prices)\n",
    "        return replication_error.sum()\n",
    "\n",
    "    results = minimize(objective, init_guess, method='SLSQP', options={'disp' : False}, bounds=bounds)\n",
    "    return results.x\n",
    "\n",
    "def optimal_weights_linear(df, futures_prices):\n",
    "    futures_prices_normalized = get_normalized_series(futures_prices)\n",
    "    X = df.apply(get_normalized_series)\n",
    "    weights, residuals, rank, s = np.linalg.lstsq(X, futures_prices_normalized, rcond=None)\n",
    "    return weights\n",
    "\n",
    "### Use to denormalized values and give the final replicated portfolio\n",
    "def get_real_portfolio_value(df, weights, prices):\n",
    "    value=pd.Series(0, index=df.index)\n",
    "    for i in range (df.shape[1]):\n",
    "        value+=weights[i]*df.iloc[:, i]*(prices.iloc[0]/df.iloc[0, i])\n",
    "    return value"
   ]
  },
  {
   "cell_type": "code",
   "execution_count": 162,
   "metadata": {},
   "outputs": [],
   "source": [
    "def get_replicated_portfolio(tickers_list, futures_ticker, start_date=\"2024-01-01\", method=\"minimizer\"):\n",
    "    \"\"\"\n",
    "    method : \"minimizer\" or \"linear_optimizer\"\n",
    "    \"\"\"\n",
    "\n",
    "    ### Get futures prices\n",
    "    futures_prices = yf.download(futures_ticker, start=start_date, progress=False)['Adj Close'].rename(f\"Futures {futures_ticker}\")\n",
    "    \n",
    "\n",
    "    ### Get prices of all shares used to replicate futures prices\n",
    "    df=pd.DataFrame()\n",
    "    for ticker in tickers_list:\n",
    "        share_prices = yf.download(ticker, start=start_date, progress=False)['Adj Close'].rename(ticker)\n",
    "        df=pd.concat([df, share_prices], axis=1)\n",
    "    \n",
    "    ### Get the optimal weights for the replicated portfolio\n",
    "    if method==\"minimizer\":\n",
    "        optimal_weights=minimize_portfolio(df, futures_prices)\n",
    "    elif method==\"linear_optimizer\":\n",
    "        optimal_weights=optimal_weights_linear(df, futures_prices)\n",
    "    else:\n",
    "        print(\"method should be 'minimizer' or 'linear_optimizer'\")\n",
    "\n",
    "    ### Use these weights and denormalized the values\n",
    "    final_portfolio = get_real_portfolio_value(df, optimal_weights, futures_prices)\n",
    "\n",
    "    return final_portfolio"
   ]
  },
  {
   "cell_type": "code",
   "execution_count": 163,
   "metadata": {},
   "outputs": [
    {
     "data": {
      "text/plain": [
       "2024-01-02    4707.056567\n",
       "2024-01-03    4674.762961\n",
       "2024-01-04    4596.092024\n",
       "2024-01-05    4596.931413\n",
       "2024-01-08    4706.844257\n",
       "                 ...     \n",
       "2024-10-28    5818.357601\n",
       "2024-10-29    5866.810819\n",
       "2024-10-30    5857.922269\n",
       "2024-10-31    5663.455301\n",
       "2024-11-01    5790.147762\n",
       "Length: 212, dtype: float64"
      ]
     },
     "execution_count": 163,
     "metadata": {},
     "output_type": "execute_result"
    }
   ],
   "source": [
    "tickers_list = ['AAPL', 'GOOGL', 'AMZN', 'MSFT']\n",
    "futures_tickers = 'ES=F'\n",
    "\n",
    "portfolio=get_replicated_portfolio(tickers_list, futures_tickers)\n",
    "portfolio"
   ]
  },
  {
   "cell_type": "code",
   "execution_count": 164,
   "metadata": {},
   "outputs": [],
   "source": [
    "### Then use this portfolio as an asset to cross hedge the futures !\n",
    "\n",
    "def cross_hedge_v2 (tickers_list, futures_ticker, QA, QF, start_date = \"2024-01-01\"):\n",
    "    \"\"\"\n",
    "    share_ticker : ticker of share used to hedge the futures\n",
    "    futures_ticker : ticker of the futures to hedge\n",
    "    QA : size of position being hedged\n",
    "    QF : size of futures contract\n",
    "    \"\"\"\n",
    "    ### Get the replicated portfolio\n",
    "    portfolio=get_replicated_portfolio(tickers_list, futures_tickers)\n",
    "    returns=np.log(portfolio/portfolio.shift(1))\n",
    "\n",
    "    ### Compute the variance of the portfolio\n",
    "    portfolio_var=returns.std()*np.sqrt(252)\n",
    "    portfolio_price=portfolio.iloc[-1]\n",
    "\n",
    "    ### Compute futures variance\n",
    "    futures=yf.download(futures_ticker, start=\"2024-01-01\")\n",
    "    futures.dropna(inplace=True)\n",
    "    futures.ffill(inplace=True)\n",
    "    futures['Log Return']=np.log(futures['Adj Close']/futures['Adj Close'].shift(1))\n",
    "    futures_var=futures['Log Return'].std()*np.sqrt(252)\n",
    "    futures_price = futures['Adj Close'].iloc[-1]\n",
    "\n",
    "\n",
    "    ### Compute correlation between two assets\n",
    "    rho=returns.corr(futures['Log Return'])\n",
    "\n",
    "    ### Compute minimum variance hedge ratio\n",
    "    h = rho*(portfolio_var/futures_var)\n",
    "    print(h)\n",
    "\n",
    "    VA = portfolio_price*QA\n",
    "    VF = futures_price*QF\n",
    "\n",
    "    ### Compute the number of contracts to hedge the futures and lock the price\n",
    "    N=h*(VA/VF)\n",
    "\n",
    "    return round(N)"
   ]
  },
  {
   "cell_type": "code",
   "execution_count": 165,
   "metadata": {},
   "outputs": [
    {
     "name": "stderr",
     "output_type": "stream",
     "text": [
      "[*********************100%%**********************]  1 of 1 completed"
     ]
    },
    {
     "name": "stdout",
     "output_type": "stream",
     "text": [
      "1.2240652544337634\n"
     ]
    },
    {
     "name": "stderr",
     "output_type": "stream",
     "text": [
      "\n"
     ]
    },
    {
     "data": {
      "text/plain": [
       "1"
      ]
     },
     "execution_count": 165,
     "metadata": {},
     "output_type": "execute_result"
    }
   ],
   "source": [
    "cross_hedge_v2(tickers_list, futures_tickers, QA=10000, QF=10000)"
   ]
  }
 ],
 "metadata": {
  "kernelspec": {
   "display_name": "base",
   "language": "python",
   "name": "python3"
  },
  "language_info": {
   "codemirror_mode": {
    "name": "ipython",
    "version": 3
   },
   "file_extension": ".py",
   "mimetype": "text/x-python",
   "name": "python",
   "nbconvert_exporter": "python",
   "pygments_lexer": "ipython3",
   "version": "3.10.9"
  }
 },
 "nbformat": 4,
 "nbformat_minor": 2
}
