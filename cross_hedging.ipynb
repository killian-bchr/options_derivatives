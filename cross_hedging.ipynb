{
 "cells": [
  {
   "cell_type": "code",
   "execution_count": 48,
   "metadata": {},
   "outputs": [
    {
     "name": "stdout",
     "output_type": "stream",
     "text": [
      "The autoreload extension is already loaded. To reload it, use:\n",
      "  %reload_ext autoreload\n"
     ]
    }
   ],
   "source": [
    "import numpy as np\n",
    "import matplotlib.pyplot as plt\n",
    "import options_trading as opt\n",
    "import pandas as pd\n",
    "import yfinance as yf\n",
    "from scipy.optimize import minimize\n",
    "%load_ext autoreload\n",
    "%autoreload 2"
   ]
  },
  {
   "cell_type": "markdown",
   "metadata": {},
   "source": [
    "### Symboles de Futures contracts sur yfinance\n",
    "##### -----------------------------------------\n",
    "##### S&P 500 E-Mini Futures : \"ES=F\"\n",
    "##### Nasdaq-100 E-Mini Futures : \"NQ=F\"\n",
    "##### Pétrole Brut (WTI) : \"CL=F\"\n",
    "##### Or : \"GC=F\"\n",
    "##### Argent : \"SI=F\""
   ]
  },
  {
   "cell_type": "markdown",
   "metadata": {},
   "source": [
    "### Historical Data"
   ]
  },
  {
   "cell_type": "code",
   "execution_count": 8,
   "metadata": {},
   "outputs": [
    {
     "name": "stderr",
     "output_type": "stream",
     "text": [
      "[*********************100%%**********************]  1 of 1 completed\n"
     ]
    },
    {
     "data": {
      "text/plain": [
       "Date\n",
       "2024-01-02           NaN\n",
       "2024-01-03    184.938217\n",
       "2024-01-04    183.553467\n",
       "2024-01-05    181.222336\n",
       "2024-01-08    180.495071\n",
       "                 ...    \n",
       "2024-10-21    235.000000\n",
       "2024-10-22    236.479996\n",
       "2024-10-23    235.860001\n",
       "2024-10-24    230.759995\n",
       "2024-10-25    230.570007\n",
       "Name: Adj Close, Length: 207, dtype: float64"
      ]
     },
     "execution_count": 8,
     "metadata": {},
     "output_type": "execute_result"
    }
   ],
   "source": [
    "yf.download('AAPL', start='2024-01-01')['Adj Close'].shift(1)"
   ]
  },
  {
   "cell_type": "code",
   "execution_count": 18,
   "metadata": {},
   "outputs": [
    {
     "name": "stderr",
     "output_type": "stream",
     "text": [
      "[*********************100%%**********************]  1 of 1 completed\n"
     ]
    },
    {
     "data": {
      "text/plain": [
       "0.23478046044097464"
      ]
     },
     "execution_count": 18,
     "metadata": {},
     "output_type": "execute_result"
    }
   ],
   "source": [
    "share=yf.download('AAPL', start='2024-01-01')\n",
    "share.dropna(inplace=True)\n",
    "share.ffill(inplace=True)\n",
    "share['Log Return']=np.log(share['Adj Close']/share['Adj Close'].shift(1))\n",
    "share_var=share['Log Return'].std()*np.sqrt(252)\n",
    "share_var"
   ]
  },
  {
   "cell_type": "code",
   "execution_count": 19,
   "metadata": {},
   "outputs": [
    {
     "name": "stderr",
     "output_type": "stream",
     "text": [
      "[*********************100%%**********************]  1 of 1 completed\n"
     ]
    },
    {
     "data": {
      "text/plain": [
       "0.1268509214830126"
      ]
     },
     "execution_count": 19,
     "metadata": {},
     "output_type": "execute_result"
    }
   ],
   "source": [
    "futures=yf.download(\"ES=F\", start=\"2024-01-01\")\n",
    "futures.dropna(inplace=True)\n",
    "futures.ffill(inplace=True)\n",
    "futures['Log Return']=np.log(futures['Adj Close']/futures['Adj Close'].shift(1))\n",
    "futures_var=futures['Log Return'].std()*np.sqrt(252)\n",
    "futures_var"
   ]
  },
  {
   "cell_type": "code",
   "execution_count": 20,
   "metadata": {},
   "outputs": [
    {
     "data": {
      "text/plain": [
       "0.5385873278102166"
      ]
     },
     "execution_count": 20,
     "metadata": {},
     "output_type": "execute_result"
    }
   ],
   "source": [
    "rho=share['Log Return'].corr(futures['Log Return'])\n",
    "rho"
   ]
  },
  {
   "cell_type": "code",
   "execution_count": 23,
   "metadata": {},
   "outputs": [
    {
     "data": {
      "text/plain": [
       "0.9968376999759554"
      ]
     },
     "execution_count": 23,
     "metadata": {},
     "output_type": "execute_result"
    }
   ],
   "source": [
    "h = rho*(share_var/futures_var)\n",
    "h"
   ]
  },
  {
   "cell_type": "code",
   "execution_count": 24,
   "metadata": {},
   "outputs": [
    {
     "data": {
      "text/plain": [
       "0.8306980833132962"
      ]
     },
     "execution_count": 24,
     "metadata": {},
     "output_type": "execute_result"
    }
   ],
   "source": [
    "### VA : amount in asset A\n",
    "### VF : amount in futures contracts\n",
    "### Number of contracts to hedge\n",
    "\n",
    "VA=100\n",
    "VF=120\n",
    "\n",
    "N=h*(VA/VF)\n",
    "N"
   ]
  },
  {
   "cell_type": "code",
   "execution_count": 30,
   "metadata": {},
   "outputs": [],
   "source": [
    "def cross_hedge (share_ticker, futures_ticker, QA, QF, start_date = \"2024-01-01\"):\n",
    "    \"\"\"\n",
    "    share_ticker : ticker of share used to hedge the futures\n",
    "    futures_ticker : ticker of the futures to hedge\n",
    "    QA : size of position being hedged\n",
    "    QF : size of futures contract\n",
    "    \"\"\"\n",
    "    ### Compute share variance\n",
    "    share=yf.download(share_ticker, start=start_date)\n",
    "    share.dropna(inplace=True)\n",
    "    share.ffill(inplace=True)\n",
    "    share['Log Return']=np.log(share['Adj Close']/share['Adj Close'].shift(1))\n",
    "    share_var=share['Log Return'].std()*np.sqrt(252)\n",
    "    share_price = share['Adj Close'].iloc[-1]\n",
    "\n",
    "    ### Compute futures variance\n",
    "    futures=yf.download(futures_ticker, start=\"2024-01-01\")\n",
    "    futures.dropna(inplace=True)\n",
    "    futures.ffill(inplace=True)\n",
    "    futures['Log Return']=np.log(futures['Adj Close']/futures['Adj Close'].shift(1))\n",
    "    futures_var=futures['Log Return'].std()*np.sqrt(252)\n",
    "    futures_price = futures['Adj Close'].iloc[-1]\n",
    "\n",
    "\n",
    "    ### Compute correlation between two assets\n",
    "    rho=share['Log Return'].corr(futures['Log Return'])\n",
    "\n",
    "    ### Compute minimum variance hedge ratio\n",
    "    h = rho*(share_var/futures_var)\n",
    "\n",
    "    VA = share_price*QA\n",
    "    VF = futures_price*QF\n",
    "\n",
    "    ### Compute the number of contracts to hedge the futures and lock the price\n",
    "    N=h*(VA/VF)\n",
    "    return round(N)"
   ]
  },
  {
   "cell_type": "code",
   "execution_count": 31,
   "metadata": {},
   "outputs": [
    {
     "name": "stderr",
     "output_type": "stream",
     "text": [
      "[*********************100%%**********************]  1 of 1 completed\n",
      "[*********************100%%**********************]  1 of 1 completed\n"
     ]
    },
    {
     "data": {
      "text/plain": [
       "4"
      ]
     },
     "execution_count": 31,
     "metadata": {},
     "output_type": "execute_result"
    }
   ],
   "source": [
    "cross_hedge(share_ticker='AAPL', futures_ticker='ES=F', QA=1000000, QF=10000)"
   ]
  },
  {
   "cell_type": "markdown",
   "metadata": {},
   "source": [
    "### Build a portfolio to hedge a futures"
   ]
  },
  {
   "cell_type": "code",
   "execution_count": 94,
   "metadata": {},
   "outputs": [],
   "source": [
    "### The goal is to replicate the futures price in order to hedge the futures\n",
    "\n",
    "prices = futures['Adj Close'].rename(\"Futures S&P 500\")\n",
    "tickers_list = ['AAPL', 'GOOGL', 'AMZN', 'MSFT']\n",
    "def get_portfolio(tickers_list):\n",
    "    df=pd.DataFrame()\n",
    "    for ticker in tickers_list:\n",
    "        share_prices = yf.download(ticker, start='2024-01-01', progress=False)['Adj Close'].rename(ticker)\n",
    "        df=pd.concat([df, share_prices], axis=1)\n",
    "    return df"
   ]
  },
  {
   "cell_type": "code",
   "execution_count": 75,
   "metadata": {},
   "outputs": [],
   "source": [
    "def get_normalized_series(series):\n",
    "    return series / series.iloc[0]\n",
    "\n",
    "def get_portfolio_value(tickers_list, weights):\n",
    "    portfolio=get_portfolio(tickers_list)\n",
    "    value=pd.Series(0, index=portfolio.index)\n",
    "    for i in range (len(tickers_list)):\n",
    "        normalized_prices = get_normalized_series(portfolio.iloc[:, i])\n",
    "        value+=weights[i]*normalized_prices\n",
    "    return value"
   ]
  },
  {
   "cell_type": "code",
   "execution_count": 83,
   "metadata": {},
   "outputs": [],
   "source": [
    "def replicate_portfolio (tickers_list, weights, futures_prices):\n",
    "    futures_prices_normalized = get_normalized_series(futures_prices)\n",
    "    portfolio_value = get_portfolio_value(tickers_list, weights)\n",
    "    aligned_portfolio, aligned_futures = portfolio_value.align(futures_prices_normalized, join='inner')\n",
    "    return abs(aligned_portfolio-aligned_futures)"
   ]
  },
  {
   "cell_type": "code",
   "execution_count": 95,
   "metadata": {},
   "outputs": [],
   "source": [
    "def minimize_portfolio(tickers_list, futures_prices):\n",
    "    \"\"\"\n",
    "\n",
    "    \"\"\"\n",
    "    n=len(tickers_list)\n",
    "    init_guess = np.repeat(1/n, n)\n",
    "    bounds = ((0.0, 1.0),)*n\n",
    "\n",
    "    def objective(weights):\n",
    "        replication_error = replicate_portfolio(tickers_list, weights, futures_prices)\n",
    "        return replication_error.sum()\n",
    "\n",
    "    results = minimize(objective, init_guess, method='SLSQP', options={'disp' : False}, bounds=bounds)\n",
    "    return results.x"
   ]
  },
  {
   "cell_type": "code",
   "execution_count": 97,
   "metadata": {},
   "outputs": [],
   "source": [
    "optimal_weights=minimize_portfolio(tickers_list, prices)"
   ]
  },
  {
   "cell_type": "code",
   "execution_count": 103,
   "metadata": {},
   "outputs": [],
   "source": [
    "def get_real_portfolio_value(tickers_list, weights, prices):\n",
    "    portfolio=get_portfolio(tickers_list)\n",
    "    value=pd.Series(0, index=portfolio.index)\n",
    "    for i in range (len(tickers_list)):\n",
    "        value+=weights[i]*portfolio.iloc[:, i]*(prices.iloc[0]/portfolio.iloc[0, i])\n",
    "    return value"
   ]
  },
  {
   "cell_type": "code",
   "execution_count": 105,
   "metadata": {},
   "outputs": [
    {
     "data": {
      "text/plain": [
       "2024-01-02    4676.717246\n",
       "2024-01-03    4636.564118\n",
       "2024-01-04    4541.784154\n",
       "2024-01-05    4546.869702\n",
       "2024-01-08    4662.359785\n",
       "                 ...     \n",
       "2024-10-24    5806.438173\n",
       "2024-10-25    5842.409603\n",
       "2024-10-28    5871.279827\n",
       "2024-10-29    5920.562299\n",
       "2024-10-30    5920.819557\n",
       "Length: 210, dtype: float64"
      ]
     },
     "execution_count": 105,
     "metadata": {},
     "output_type": "execute_result"
    }
   ],
   "source": [
    "get_real_portfolio_value(tickers_list, optimal_weights, prices)"
   ]
  },
  {
   "cell_type": "code",
   "execution_count": null,
   "metadata": {},
   "outputs": [],
   "source": [
    "### Final Solution\n",
    "\n",
    "prices = futures['Adj Close'].rename(\"Futures S&P 500\")\n",
    "tickers_list = ['AAPL', 'GOOGL', 'AMZN', 'MSFT']\n",
    "\n",
    "df=pd.DataFrame()\n",
    "for ticker in tickers_list:\n",
    "    share_prices = yf.download(ticker, start='2024-01-01')['Adj Close'].rename(ticker)\n",
    "    df=pd.concat([df, share_prices], axis=1)\n",
    "\n",
    "def get_normalized_series(series):\n",
    "    return series / series.iloc[0]\n",
    "\n",
    "def get_portfolio_value(df, weights):\n",
    "    value=pd.Series(0, index=df.index)\n",
    "    for i in range (len(tickers_list)):\n",
    "        normalized_prices = get_normalized_series(df.iloc[:, i])\n",
    "        value+=weights[i]*normalized_prices\n",
    "    return value\n",
    "\n",
    "def replicate_portfolio (df, weights, futures_prices):\n",
    "    futures_prices_normalized = get_normalized_series(futures_prices)\n",
    "    portfolio_value = get_portfolio_value(df, weights)\n",
    "    aligned_portfolio, aligned_futures = portfolio_value.align(futures_prices_normalized, join='inner')\n",
    "    return abs(aligned_portfolio-aligned_futures)\n",
    "\n",
    "def minimize_portfolio(df, futures_prices):\n",
    "    \"\"\"\n",
    "\n",
    "    \"\"\"\n",
    "    n=len(tickers_list)\n",
    "    init_guess = np.repeat(1/n, n)\n",
    "    bounds = ((0.0, 1.0),)*n\n",
    "\n",
    "    def objective(weights):\n",
    "        replication_error = replicate_portfolio(df, weights, futures_prices)\n",
    "        return replication_error.sum()\n",
    "\n",
    "    results = minimize(objective, init_guess, method='SLSQP', options={'disp' : False}, bounds=bounds)\n",
    "    return results.x\n",
    "\n",
    "optimal_weights=minimize_portfolio(df, prices)\n",
    "\n",
    "def get_real_portfolio_value(df, weights, prices):\n",
    "    value=pd.Series(0, index=df.index)\n",
    "    for i in range (len(df)):\n",
    "        value+=weights[i]*portfolio.iloc[:, i]*(prices.iloc[0]/portfolio.iloc[0, i])\n",
    "    return value"
   ]
  }
 ],
 "metadata": {
  "kernelspec": {
   "display_name": "base",
   "language": "python",
   "name": "python3"
  },
  "language_info": {
   "codemirror_mode": {
    "name": "ipython",
    "version": 3
   },
   "file_extension": ".py",
   "mimetype": "text/x-python",
   "name": "python",
   "nbconvert_exporter": "python",
   "pygments_lexer": "ipython3",
   "version": "3.10.9"
  }
 },
 "nbformat": 4,
 "nbformat_minor": 2
}
