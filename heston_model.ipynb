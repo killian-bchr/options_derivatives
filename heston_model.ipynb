{
 "cells": [
  {
   "cell_type": "code",
   "execution_count": null,
   "metadata": {},
   "outputs": [],
   "source": [
    "import numpy as np\n",
    "import matplotlib.pyplot as plt\n",
    "import options_trading as opt\n",
    "%load_ext autoreload\n",
    "%autoreload 2"
   ]
  },
  {
   "cell_type": "code",
   "execution_count": null,
   "metadata": {},
   "outputs": [],
   "source": [
    "def heston_model(S0, v0, r, rho, kappa, theta, sigma, T, N, M):\n",
    "    dt = T / N\n",
    "    mu = np.array([0, 0])\n",
    "    cov = np.array([[1, rho], [rho, 1]])\n",
    "\n",
    "    S = np.full(shape=(N + 1, M), fill_value=S0)  # Initialisation des prix à S0\n",
    "    v = np.full(shape=(N + 1, M), fill_value=v0)  # Initialisation des variances à v0\n",
    "\n",
    "    # Générer des échantillons de variables aléatoires multivariées\n",
    "    Z = np.random.multivariate_normal(mu, cov, (N, M))\n",
    "\n",
    "    for i in range(1, N + 1):\n",
    "        S[i] = S[i - 1] * np.exp((r - 0.5 * v[i - 1]) * dt + np.sqrt(v[i - 1] * dt) * Z[i - 1, :, 0])\n",
    "        v[i] = np.maximum(v[i - 1] + kappa * (theta - v[i - 1]) * dt + sigma * np.sqrt(v[i - 1] * dt) * Z[i - 1, :, 1], 0)\n",
    "\n",
    "    return S, v"
   ]
  }
 ],
 "metadata": {
  "kernelspec": {
   "display_name": "base",
   "language": "python",
   "name": "python3"
  },
  "language_info": {
   "codemirror_mode": {
    "name": "ipython",
    "version": 3
   },
   "file_extension": ".py",
   "mimetype": "text/x-python",
   "name": "python",
   "nbconvert_exporter": "python",
   "pygments_lexer": "ipython3",
   "version": "3.10.9"
  }
 },
 "nbformat": 4,
 "nbformat_minor": 2
}
