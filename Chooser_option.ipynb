{
 "cells": [
  {
   "cell_type": "code",
   "execution_count": 1,
   "metadata": {},
   "outputs": [],
   "source": [
    "import numpy as np\n",
    "import matplotlib.pyplot as plt\n",
    "import options_trading as opt\n",
    "%load_ext autoreload\n",
    "%autoreload 2"
   ]
  },
  {
   "cell_type": "code",
   "execution_count": 4,
   "metadata": {},
   "outputs": [],
   "source": [
    "def chooser_option_monte_carlo(S0, K, T1, T2, r, vol, N, M):\n",
    "    \"\"\"\n",
    "    S0 : prix initial du sous-jacent\n",
    "    K : prix d'exercice de l'option\n",
    "    T1 : temps jusqu'à la date de choix (en mois)\n",
    "    T2 : maturité totale de l'option (en années)\n",
    "    r : taux sans risque\n",
    "    vol : volatilité (supposée constante)\n",
    "    N : nombre de pas de temps\n",
    "    M : nombre de simulations\n",
    "    \"\"\"\n",
    "    \n",
    "    dt = T2 / N  # Intervalle de temps pour chaque timestep\n",
    "    nudt = (r - 0.5 * vol**2) * dt\n",
    "    volsdt = vol * np.sqrt(dt)\n",
    "    \n",
    "    # Nombre de pas pour atteindre la date de choix T1\n",
    "    N1 = int(T1 / T2 * N)  # Conversion de T1 (en mois) en nombre de pas de temps\n",
    "    \n",
    "    sum_CT = 0\n",
    "    sum_CT2 = 0\n",
    "\n",
    "    for i in range(M):\n",
    "        St = S0  # Réinitialisation du prix à chaque simulation\n",
    "        CT = 0  # Réinitialiser CT à chaque simulation\n",
    "\n",
    "        # Simulation du chemin du prix de l'actif jusqu'à la maturité\n",
    "        for j in range(N):\n",
    "            epsilon = np.random.normal()  # Variable aléatoire pour simuler le mouvement brownien\n",
    "            St *= np.exp(nudt + volsdt * epsilon)\n",
    "            \n",
    "            # À la date de choix, calcul du payoff\n",
    "            if j == N1:\n",
    "                # Calcul de Sf (prix forward à la date de choix)\n",
    "                Sf = S0 * np.exp(r * (T2 - T1/12))  # Calcul correct de Sf\n",
    "                # Calcul des payoffs avec Sf au lieu de K\n",
    "                payoff_call = max(0, St - Sf)  # Payoff du call\n",
    "                payoff_put = max(0, Sf - St)   # Payoff du put\n",
    "                CT = max(payoff_call, payoff_put)  # Choisir l'option la plus favorable (call ou put)\n",
    "\n",
    "        # À la maturité, ajout du payoff du call basé sur K\n",
    "        payoff_final = max(0, St - K)  # Payoff final du call à l'échéance\n",
    "        CT = max(CT, payoff_final)  # Choisir le meilleur payoff entre la date de choix et l'échéance\n",
    "\n",
    "        # Accumuler les résultats des simulations\n",
    "        sum_CT += CT\n",
    "        sum_CT2 += CT**2\n",
    "\n",
    "    # Calcul de la valeur présente de l'option\n",
    "    C0 = np.exp(-r * T2) * sum_CT / M  # Moyenne des payoffs actualisés\n",
    "    # Calcul de l'écart-type des payoffs pour l'estimation de l'erreur standard\n",
    "    sigma = np.sqrt((sum_CT2 - (sum_CT**2) / M) * np.exp(-2 * r * T2) / (M - 1))\n",
    "    SE = sigma / np.sqrt(M)  # Erreur standard\n",
    "\n",
    "    return C0"
   ]
  },
  {
   "cell_type": "code",
   "execution_count": 5,
   "metadata": {},
   "outputs": [
    {
     "data": {
      "text/plain": [
       "14.329205247999132"
      ]
     },
     "execution_count": 5,
     "metadata": {},
     "output_type": "execute_result"
    }
   ],
   "source": [
    "chooser_option_monte_carlo(100, 100, 6, 2, 0.04, 0.2, 100, 1000)"
   ]
  }
 ],
 "metadata": {
  "kernelspec": {
   "display_name": "base",
   "language": "python",
   "name": "python3"
  },
  "language_info": {
   "codemirror_mode": {
    "name": "ipython",
    "version": 3
   },
   "file_extension": ".py",
   "mimetype": "text/x-python",
   "name": "python",
   "nbconvert_exporter": "python",
   "pygments_lexer": "ipython3",
   "version": "3.10.9"
  }
 },
 "nbformat": 4,
 "nbformat_minor": 2
}
