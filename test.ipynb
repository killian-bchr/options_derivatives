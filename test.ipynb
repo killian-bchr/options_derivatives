{
 "cells": [
  {
   "cell_type": "code",
   "execution_count": 9,
   "metadata": {},
   "outputs": [
    {
     "name": "stdout",
     "output_type": "stream",
     "text": [
      "The autoreload extension is already loaded. To reload it, use:\n",
      "  %reload_ext autoreload\n"
     ]
    }
   ],
   "source": [
    "import pricing\n",
    "import model_calibration as model\n",
    "import options as opt\n",
    "import yfinance as yf\n",
    "import numpy as np\n",
    "import pandas as pd\n",
    "from scipy.interpolate import griddata\n",
    "%load_ext autoreload\n",
    "%autoreload 2"
   ]
  },
  {
   "cell_type": "code",
   "execution_count": 44,
   "metadata": {},
   "outputs": [
    {
     "name": "stderr",
     "output_type": "stream",
     "text": [
      "[*********************100%%**********************]  1 of 1 completed\n",
      "[*********************100%%**********************]  1 of 1 completed\n"
     ]
    }
   ],
   "source": [
    "# S0 = 100\n",
    "ticker='AAPL'\n",
    "S0=yf.download(ticker).iloc[-1]['Adj Close']\n",
    "K = 250\n",
    "T = 1\n",
    "M = 100000\n",
    "opt_type = 'C'\n",
    "\n",
    "# Get risk-free rate\n",
    "rates=model.get_riskfree_rate()\n",
    "r=rates[str(T*12)]/100\n",
    "\n",
    "# Get the implied volatility\n",
    "volatility_surface=model.volatility_surface(ticker)\n",
    "\n",
    "maturities=volatility_surface['Time to maturity'].values\n",
    "strikes=volatility_surface['Strikes'].values\n",
    "volatilities=volatility_surface['Implied volatility'].values"
   ]
  },
  {
   "cell_type": "code",
   "execution_count": 45,
   "metadata": {},
   "outputs": [],
   "source": [
    "points=np.array([maturities, strikes]).T\n",
    "IV=griddata(points, volatilities, (T, K), method='linear').item()/100\n"
   ]
  },
  {
   "cell_type": "code",
   "execution_count": 46,
   "metadata": {},
   "outputs": [],
   "source": [
    "price=pricing.vanilla_option_price(S0, K, T, r, IV, M, opt_type, antithetic=True)"
   ]
  },
  {
   "cell_type": "code",
   "execution_count": 47,
   "metadata": {},
   "outputs": [
    {
     "data": {
      "text/plain": [
       "20.14426668326883"
      ]
     },
     "execution_count": 47,
     "metadata": {},
     "output_type": "execute_result"
    }
   ],
   "source": [
    "price"
   ]
  },
  {
   "cell_type": "code",
   "execution_count": 4,
   "metadata": {},
   "outputs": [
    {
     "name": "stderr",
     "output_type": "stream",
     "text": [
      "[*********************100%%**********************]  1 of 1 completed\n"
     ]
    }
   ],
   "source": [
    "v=model.volatility_surface('AAPL')"
   ]
  },
  {
   "cell_type": "code",
   "execution_count": 7,
   "metadata": {},
   "outputs": [
    {
     "data": {
      "text/html": [
       "<div>\n",
       "<style scoped>\n",
       "    .dataframe tbody tr th:only-of-type {\n",
       "        vertical-align: middle;\n",
       "    }\n",
       "\n",
       "    .dataframe tbody tr th {\n",
       "        vertical-align: top;\n",
       "    }\n",
       "\n",
       "    .dataframe thead th {\n",
       "        text-align: right;\n",
       "    }\n",
       "</style>\n",
       "<table border=\"1\" class=\"dataframe\">\n",
       "  <thead>\n",
       "    <tr style=\"text-align: right;\">\n",
       "      <th></th>\n",
       "      <th>Time to maturity</th>\n",
       "      <th>Strikes</th>\n",
       "      <th>Implied volatility</th>\n",
       "    </tr>\n",
       "  </thead>\n",
       "  <tbody>\n",
       "    <tr>\n",
       "      <th>0</th>\n",
       "      <td>0.010959</td>\n",
       "      <td>100.0</td>\n",
       "      <td>30.000000</td>\n",
       "    </tr>\n",
       "    <tr>\n",
       "      <th>1</th>\n",
       "      <td>0.010959</td>\n",
       "      <td>115.0</td>\n",
       "      <td>30.000000</td>\n",
       "    </tr>\n",
       "    <tr>\n",
       "      <th>2</th>\n",
       "      <td>0.010959</td>\n",
       "      <td>130.0</td>\n",
       "      <td>30.000000</td>\n",
       "    </tr>\n",
       "    <tr>\n",
       "      <th>3</th>\n",
       "      <td>0.010959</td>\n",
       "      <td>135.0</td>\n",
       "      <td>30.000000</td>\n",
       "    </tr>\n",
       "    <tr>\n",
       "      <th>4</th>\n",
       "      <td>0.010959</td>\n",
       "      <td>140.0</td>\n",
       "      <td>30.000000</td>\n",
       "    </tr>\n",
       "    <tr>\n",
       "      <th>...</th>\n",
       "      <td>...</td>\n",
       "      <td>...</td>\n",
       "      <td>...</td>\n",
       "    </tr>\n",
       "    <tr>\n",
       "      <th>966</th>\n",
       "      <td>2.139726</td>\n",
       "      <td>410.0</td>\n",
       "      <td>22.814246</td>\n",
       "    </tr>\n",
       "    <tr>\n",
       "      <th>967</th>\n",
       "      <td>2.139726</td>\n",
       "      <td>420.0</td>\n",
       "      <td>23.255147</td>\n",
       "    </tr>\n",
       "    <tr>\n",
       "      <th>968</th>\n",
       "      <td>2.139726</td>\n",
       "      <td>430.0</td>\n",
       "      <td>23.447591</td>\n",
       "    </tr>\n",
       "    <tr>\n",
       "      <th>969</th>\n",
       "      <td>2.139726</td>\n",
       "      <td>440.0</td>\n",
       "      <td>23.560325</td>\n",
       "    </tr>\n",
       "    <tr>\n",
       "      <th>970</th>\n",
       "      <td>2.139726</td>\n",
       "      <td>450.0</td>\n",
       "      <td>23.474989</td>\n",
       "    </tr>\n",
       "  </tbody>\n",
       "</table>\n",
       "<p>971 rows × 3 columns</p>\n",
       "</div>"
      ],
      "text/plain": [
       "     Time to maturity  Strikes  Implied volatility\n",
       "0            0.010959    100.0           30.000000\n",
       "1            0.010959    115.0           30.000000\n",
       "2            0.010959    130.0           30.000000\n",
       "3            0.010959    135.0           30.000000\n",
       "4            0.010959    140.0           30.000000\n",
       "..                ...      ...                 ...\n",
       "966          2.139726    410.0           22.814246\n",
       "967          2.139726    420.0           23.255147\n",
       "968          2.139726    430.0           23.447591\n",
       "969          2.139726    440.0           23.560325\n",
       "970          2.139726    450.0           23.474989\n",
       "\n",
       "[971 rows x 3 columns]"
      ]
     },
     "execution_count": 7,
     "metadata": {},
     "output_type": "execute_result"
    }
   ],
   "source": [
    "v"
   ]
  }
 ],
 "metadata": {
  "kernelspec": {
   "display_name": "base",
   "language": "python",
   "name": "python3"
  },
  "language_info": {
   "codemirror_mode": {
    "name": "ipython",
    "version": 3
   },
   "file_extension": ".py",
   "mimetype": "text/x-python",
   "name": "python",
   "nbconvert_exporter": "python",
   "pygments_lexer": "ipython3",
   "version": "3.10.9"
  }
 },
 "nbformat": 4,
 "nbformat_minor": 2
}
