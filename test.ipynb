{
 "cells": [
  {
   "cell_type": "code",
   "execution_count": 50,
   "metadata": {},
   "outputs": [
    {
     "name": "stdout",
     "output_type": "stream",
     "text": [
      "The autoreload extension is already loaded. To reload it, use:\n",
      "  %reload_ext autoreload\n"
     ]
    }
   ],
   "source": [
    "import pricing\n",
    "import model_calibration as model\n",
    "import options as opt\n",
    "import yfinance as yf\n",
    "import numpy as np\n",
    "import pandas as pd\n",
    "from scipy.interpolate import griddata\n",
    "from datetime import datetime\n",
    "%load_ext autoreload\n",
    "%autoreload 2"
   ]
  },
  {
   "cell_type": "code",
   "execution_count": 44,
   "metadata": {},
   "outputs": [
    {
     "name": "stderr",
     "output_type": "stream",
     "text": [
      "[*********************100%%**********************]  1 of 1 completed\n",
      "[*********************100%%**********************]  1 of 1 completed\n"
     ]
    }
   ],
   "source": [
    "# S0 = 100\n",
    "ticker='AAPL'\n",
    "S0=yf.download(ticker).iloc[-1]['Adj Close']\n",
    "K = 250\n",
    "T = 1\n",
    "M = 100000\n",
    "opt_type = 'C'\n",
    "\n",
    "# Get risk-free rate\n",
    "rates=model.get_riskfree_rate()\n",
    "r=rates[str(T*12)]/100\n",
    "\n",
    "# Get the implied volatility\n",
    "volatility_surface=model.volatility_surface(ticker)\n",
    "\n",
    "maturities=volatility_surface['Time to maturity'].values\n",
    "strikes=volatility_surface['Strikes'].values\n",
    "volatilities=volatility_surface['Implied volatility'].values"
   ]
  },
  {
   "cell_type": "code",
   "execution_count": 45,
   "metadata": {},
   "outputs": [],
   "source": [
    "points=np.array([maturities, strikes]).T\n",
    "IV=griddata(points, volatilities, (T, K), method='linear').item()/100\n"
   ]
  },
  {
   "cell_type": "code",
   "execution_count": 46,
   "metadata": {},
   "outputs": [],
   "source": [
    "price=pricing.vanilla_option_price(S0, K, T, r, IV, M, opt_type, antithetic=True)"
   ]
  },
  {
   "cell_type": "code",
   "execution_count": 47,
   "metadata": {},
   "outputs": [
    {
     "data": {
      "text/plain": [
       "20.14426668326883"
      ]
     },
     "execution_count": 47,
     "metadata": {},
     "output_type": "execute_result"
    }
   ],
   "source": [
    "price"
   ]
  },
  {
   "cell_type": "code",
   "execution_count": 4,
   "metadata": {},
   "outputs": [
    {
     "name": "stderr",
     "output_type": "stream",
     "text": [
      "[*********************100%%**********************]  1 of 1 completed\n"
     ]
    }
   ],
   "source": [
    "v=model.volatility_surface('AAPL')"
   ]
  },
  {
   "cell_type": "code",
   "execution_count": 7,
   "metadata": {},
   "outputs": [
    {
     "data": {
      "text/html": [
       "<div>\n",
       "<style scoped>\n",
       "    .dataframe tbody tr th:only-of-type {\n",
       "        vertical-align: middle;\n",
       "    }\n",
       "\n",
       "    .dataframe tbody tr th {\n",
       "        vertical-align: top;\n",
       "    }\n",
       "\n",
       "    .dataframe thead th {\n",
       "        text-align: right;\n",
       "    }\n",
       "</style>\n",
       "<table border=\"1\" class=\"dataframe\">\n",
       "  <thead>\n",
       "    <tr style=\"text-align: right;\">\n",
       "      <th></th>\n",
       "      <th>Time to maturity</th>\n",
       "      <th>Strikes</th>\n",
       "      <th>Implied volatility</th>\n",
       "    </tr>\n",
       "  </thead>\n",
       "  <tbody>\n",
       "    <tr>\n",
       "      <th>0</th>\n",
       "      <td>0.010959</td>\n",
       "      <td>100.0</td>\n",
       "      <td>30.000000</td>\n",
       "    </tr>\n",
       "    <tr>\n",
       "      <th>1</th>\n",
       "      <td>0.010959</td>\n",
       "      <td>115.0</td>\n",
       "      <td>30.000000</td>\n",
       "    </tr>\n",
       "    <tr>\n",
       "      <th>2</th>\n",
       "      <td>0.010959</td>\n",
       "      <td>130.0</td>\n",
       "      <td>30.000000</td>\n",
       "    </tr>\n",
       "    <tr>\n",
       "      <th>3</th>\n",
       "      <td>0.010959</td>\n",
       "      <td>135.0</td>\n",
       "      <td>30.000000</td>\n",
       "    </tr>\n",
       "    <tr>\n",
       "      <th>4</th>\n",
       "      <td>0.010959</td>\n",
       "      <td>140.0</td>\n",
       "      <td>30.000000</td>\n",
       "    </tr>\n",
       "    <tr>\n",
       "      <th>...</th>\n",
       "      <td>...</td>\n",
       "      <td>...</td>\n",
       "      <td>...</td>\n",
       "    </tr>\n",
       "    <tr>\n",
       "      <th>966</th>\n",
       "      <td>2.139726</td>\n",
       "      <td>410.0</td>\n",
       "      <td>22.814246</td>\n",
       "    </tr>\n",
       "    <tr>\n",
       "      <th>967</th>\n",
       "      <td>2.139726</td>\n",
       "      <td>420.0</td>\n",
       "      <td>23.255147</td>\n",
       "    </tr>\n",
       "    <tr>\n",
       "      <th>968</th>\n",
       "      <td>2.139726</td>\n",
       "      <td>430.0</td>\n",
       "      <td>23.447591</td>\n",
       "    </tr>\n",
       "    <tr>\n",
       "      <th>969</th>\n",
       "      <td>2.139726</td>\n",
       "      <td>440.0</td>\n",
       "      <td>23.560325</td>\n",
       "    </tr>\n",
       "    <tr>\n",
       "      <th>970</th>\n",
       "      <td>2.139726</td>\n",
       "      <td>450.0</td>\n",
       "      <td>23.474989</td>\n",
       "    </tr>\n",
       "  </tbody>\n",
       "</table>\n",
       "<p>971 rows × 3 columns</p>\n",
       "</div>"
      ],
      "text/plain": [
       "     Time to maturity  Strikes  Implied volatility\n",
       "0            0.010959    100.0           30.000000\n",
       "1            0.010959    115.0           30.000000\n",
       "2            0.010959    130.0           30.000000\n",
       "3            0.010959    135.0           30.000000\n",
       "4            0.010959    140.0           30.000000\n",
       "..                ...      ...                 ...\n",
       "966          2.139726    410.0           22.814246\n",
       "967          2.139726    420.0           23.255147\n",
       "968          2.139726    430.0           23.447591\n",
       "969          2.139726    440.0           23.560325\n",
       "970          2.139726    450.0           23.474989\n",
       "\n",
       "[971 rows x 3 columns]"
      ]
     },
     "execution_count": 7,
     "metadata": {},
     "output_type": "execute_result"
    }
   ],
   "source": [
    "v"
   ]
  },
  {
   "cell_type": "code",
   "execution_count": 48,
   "metadata": {},
   "outputs": [
    {
     "name": "stderr",
     "output_type": "stream",
     "text": [
      "[*********************100%%**********************]  1 of 1 completed\n",
      "[*********************100%%**********************]  1 of 1 completed\n"
     ]
    }
   ],
   "source": [
    "price=model.get_price('AAPL', 250, 1, pricing.vanilla_option_price)"
   ]
  },
  {
   "cell_type": "code",
   "execution_count": 49,
   "metadata": {},
   "outputs": [
    {
     "data": {
      "text/plain": [
       "19.360176289376216"
      ]
     },
     "execution_count": 49,
     "metadata": {},
     "output_type": "execute_result"
    }
   ],
   "source": [
    "price"
   ]
  },
  {
   "cell_type": "code",
   "execution_count": null,
   "metadata": {},
   "outputs": [],
   "source": [
    "def volatility_surface(ticker, r=0.02, price=False, method=\"optimizer\"):\n",
    "    \"\"\"\n",
    "    method : \"optimizer\" or \"newton\"\n",
    "    \"\"\"\n",
    "    df=yf.download(ticker, start='2024-06-01')\n",
    "    df.dropna(inplace=True)\n",
    "    df.ffill(inplace=True)\n",
    "    #today=datetime.now().date()\n",
    "    #S=df.loc[today, 'Close']\n",
    "    S=df['Close'].iloc[-1]\n",
    "    exp_dates=opt.get_options_dates(ticker)\n",
    "    time_to_maturity=[]\n",
    "    strike=[]\n",
    "    implied_volatility=[]\n",
    "    for date in exp_dates:\n",
    "        strikes=opt.call(ticker, date)['strike']\n",
    "        option_prices=opt.call(ticker, date)['lastPrice']\n",
    "        days_to_maturity=(datetime.strptime(date, '%Y-%m-%d').date()-datetime.now().date()).days\n",
    "        maturity=days_to_maturity/365\n",
    "        for i in range (len(strikes)):\n",
    "            time_to_maturity.append(maturity)\n",
    "            strike.append(strikes.iloc[i])\n",
    "            if maturity>0:\n",
    "                if method==\"optimizer\":\n",
    "                    implied_volatility.append(model.implied_vol(S, strikes.iloc[i], maturity, r, option_prices.iloc[i]))\n",
    "                elif method==\"newton\":\n",
    "                    implied_volatility.append(model.implied_vol_newton(S, strikes.iloc[i], maturity, r, option_prices.iloc[i]))\n",
    "                else:\n",
    "                    print(\"method should be either 'optimizer' or 'newton'\")\n",
    "            else:\n",
    "                implied_volatility.append(np.nan)    ##l'option a expiré donc il n'y a pas de volatilité implicite\n",
    "        \n",
    "    data=pd.DataFrame({'Time to maturity':time_to_maturity, 'Strikes':strike, 'Implied volatility':implied_volatility})\n",
    "    if price:\n",
    "        return data, S\n",
    "    else:\n",
    "        return data"
   ]
  },
  {
   "cell_type": "code",
   "execution_count": null,
   "metadata": {},
   "outputs": [
    {
     "name": "stderr",
     "output_type": "stream",
     "text": [
      "[*********************100%%**********************]  1 of 1 completed\n"
     ]
    },
    {
     "name": "stdout",
     "output_type": "stream",
     "text": [
      "52\n",
      "47\n",
      "31\n",
      "75\n",
      "30\n",
      "12\n",
      "76\n",
      "57\n",
      "57\n",
      "47\n",
      "54\n",
      "28\n",
      "47\n",
      "59\n",
      "54\n",
      "62\n",
      "62\n",
      "61\n",
      "60\n"
     ]
    }
   ],
   "source": [
    "ticker_symbol='AAPL'\n",
    "\n",
    "S=yf.download(ticker_symbol, start='2024-06-01')['Close'].iloc[-1]\n",
    "#today=datetime.now().date()\n",
    "#S=df.loc[today, 'Close']\n",
    "ticker=yf.Ticker(ticker_symbol)\n",
    "exp_dates=ticker.options\n",
    "for date in exp_dates:\n",
    "    call_options=ticker.option_chain(date).calls[['strike', 'lastPrice']]\n",
    "    days_to_maturity=(datetime.strptime(date, '%Y-%m-%d').date()-datetime.now().date()).days\n",
    "    # Conversion in years\n",
    "    maturity=days_to_maturity/365\n",
    "    print(len(call_options['strike']))"
   ]
  },
  {
   "cell_type": "code",
   "execution_count": 87,
   "metadata": {},
   "outputs": [],
   "source": [
    "def volatility_surface_v2(ticker, r=0.02, method=\"optimizer\"):\n",
    "    ticker=yf.Ticker(ticker_symbol)\n",
    "    S=ticker.history(period=\"1d\")['Close'].iloc[-1]\n",
    "    exp_dates=ticker.options\n",
    "    df=pd.DataFrame({'exp_dates':exp_dates})\n",
    "    df['exp_dates'] = pd.to_datetime(df['exp_dates'], format='%Y-%m-%d')\n",
    "    df['maturity'] = (df['exp_dates'] - pd.Timestamp.now()).dt.days / 365\n",
    "    df['exp_dates']=df['exp_dates'].dt.strftime('%Y-%m-%d')\n",
    "\n",
    "    def get_calls_by_date(ticker, date):\n",
    "        return ticker.option_chain(date).calls[['strike', 'lastPrice']]\n",
    "\n",
    "    option_data = []\n",
    "    for _, row in df.iterrows():\n",
    "        options = get_calls_by_date(ticker, row['exp_dates'])\n",
    "        options['maturity'] = row['maturity']\n",
    "        option_data.append(options)\n",
    "\n",
    "    #option_data = [get_calls_by_date(ticker, date) for date in df['exp_dates']]\n",
    "\n",
    "    result = pd.concat(option_data, ignore_index=True)\n",
    "    #result['maturity'] = np.concatenate([np.repeat(maturity, len(options)) for maturity, options in zip(df['maturity'], option_data)])\n",
    "\n",
    "    result['implied vol'] = result.apply(lambda row: model.implied_vol(S, row['strike'], row['maturity'], r, row['lastPrice']), axis=1)\n",
    "\n",
    "    return result[['maturity', 'strike', 'implied vol']]"
   ]
  },
  {
   "cell_type": "code",
   "execution_count": 90,
   "metadata": {},
   "outputs": [
    {
     "data": {
      "text/html": [
       "<div>\n",
       "<style scoped>\n",
       "    .dataframe tbody tr th:only-of-type {\n",
       "        vertical-align: middle;\n",
       "    }\n",
       "\n",
       "    .dataframe tbody tr th {\n",
       "        vertical-align: top;\n",
       "    }\n",
       "\n",
       "    .dataframe thead th {\n",
       "        text-align: right;\n",
       "    }\n",
       "</style>\n",
       "<table border=\"1\" class=\"dataframe\">\n",
       "  <thead>\n",
       "    <tr style=\"text-align: right;\">\n",
       "      <th></th>\n",
       "      <th>maturity</th>\n",
       "      <th>strike</th>\n",
       "      <th>implied vol</th>\n",
       "    </tr>\n",
       "  </thead>\n",
       "  <tbody>\n",
       "    <tr>\n",
       "      <th>0</th>\n",
       "      <td>0.002740</td>\n",
       "      <td>100.0</td>\n",
       "      <td>30.000000</td>\n",
       "    </tr>\n",
       "    <tr>\n",
       "      <th>1</th>\n",
       "      <td>0.002740</td>\n",
       "      <td>115.0</td>\n",
       "      <td>30.000000</td>\n",
       "    </tr>\n",
       "    <tr>\n",
       "      <th>2</th>\n",
       "      <td>0.002740</td>\n",
       "      <td>130.0</td>\n",
       "      <td>30.000000</td>\n",
       "    </tr>\n",
       "    <tr>\n",
       "      <th>3</th>\n",
       "      <td>0.002740</td>\n",
       "      <td>135.0</td>\n",
       "      <td>30.000000</td>\n",
       "    </tr>\n",
       "    <tr>\n",
       "      <th>4</th>\n",
       "      <td>0.002740</td>\n",
       "      <td>140.0</td>\n",
       "      <td>30.000000</td>\n",
       "    </tr>\n",
       "    <tr>\n",
       "      <th>...</th>\n",
       "      <td>...</td>\n",
       "      <td>...</td>\n",
       "      <td>...</td>\n",
       "    </tr>\n",
       "    <tr>\n",
       "      <th>966</th>\n",
       "      <td>2.131507</td>\n",
       "      <td>410.0</td>\n",
       "      <td>22.537965</td>\n",
       "    </tr>\n",
       "    <tr>\n",
       "      <th>967</th>\n",
       "      <td>2.131507</td>\n",
       "      <td>420.0</td>\n",
       "      <td>23.484048</td>\n",
       "    </tr>\n",
       "    <tr>\n",
       "      <th>968</th>\n",
       "      <td>2.131507</td>\n",
       "      <td>430.0</td>\n",
       "      <td>23.723413</td>\n",
       "    </tr>\n",
       "    <tr>\n",
       "      <th>969</th>\n",
       "      <td>2.131507</td>\n",
       "      <td>440.0</td>\n",
       "      <td>23.661834</td>\n",
       "    </tr>\n",
       "    <tr>\n",
       "      <th>970</th>\n",
       "      <td>2.131507</td>\n",
       "      <td>450.0</td>\n",
       "      <td>23.855616</td>\n",
       "    </tr>\n",
       "  </tbody>\n",
       "</table>\n",
       "<p>971 rows × 3 columns</p>\n",
       "</div>"
      ],
      "text/plain": [
       "     maturity  strike  implied vol\n",
       "0    0.002740   100.0    30.000000\n",
       "1    0.002740   115.0    30.000000\n",
       "2    0.002740   130.0    30.000000\n",
       "3    0.002740   135.0    30.000000\n",
       "4    0.002740   140.0    30.000000\n",
       "..        ...     ...          ...\n",
       "966  2.131507   410.0    22.537965\n",
       "967  2.131507   420.0    23.484048\n",
       "968  2.131507   430.0    23.723413\n",
       "969  2.131507   440.0    23.661834\n",
       "970  2.131507   450.0    23.855616\n",
       "\n",
       "[971 rows x 3 columns]"
      ]
     },
     "execution_count": 90,
     "metadata": {},
     "output_type": "execute_result"
    }
   ],
   "source": [
    "volatility_surface_v2('AAPL')"
   ]
  },
  {
   "cell_type": "code",
   "execution_count": 89,
   "metadata": {},
   "outputs": [
    {
     "name": "stderr",
     "output_type": "stream",
     "text": [
      "[*********************100%%**********************]  1 of 1 completed\n"
     ]
    },
    {
     "data": {
      "text/html": [
       "<div>\n",
       "<style scoped>\n",
       "    .dataframe tbody tr th:only-of-type {\n",
       "        vertical-align: middle;\n",
       "    }\n",
       "\n",
       "    .dataframe tbody tr th {\n",
       "        vertical-align: top;\n",
       "    }\n",
       "\n",
       "    .dataframe thead th {\n",
       "        text-align: right;\n",
       "    }\n",
       "</style>\n",
       "<table border=\"1\" class=\"dataframe\">\n",
       "  <thead>\n",
       "    <tr style=\"text-align: right;\">\n",
       "      <th></th>\n",
       "      <th>Time to maturity</th>\n",
       "      <th>Strikes</th>\n",
       "      <th>Implied volatility</th>\n",
       "    </tr>\n",
       "  </thead>\n",
       "  <tbody>\n",
       "    <tr>\n",
       "      <th>0</th>\n",
       "      <td>0.005479</td>\n",
       "      <td>100.0</td>\n",
       "      <td>30.000000</td>\n",
       "    </tr>\n",
       "    <tr>\n",
       "      <th>1</th>\n",
       "      <td>0.005479</td>\n",
       "      <td>115.0</td>\n",
       "      <td>30.000000</td>\n",
       "    </tr>\n",
       "    <tr>\n",
       "      <th>2</th>\n",
       "      <td>0.005479</td>\n",
       "      <td>130.0</td>\n",
       "      <td>30.000000</td>\n",
       "    </tr>\n",
       "    <tr>\n",
       "      <th>3</th>\n",
       "      <td>0.005479</td>\n",
       "      <td>135.0</td>\n",
       "      <td>30.000000</td>\n",
       "    </tr>\n",
       "    <tr>\n",
       "      <th>4</th>\n",
       "      <td>0.005479</td>\n",
       "      <td>140.0</td>\n",
       "      <td>30.000000</td>\n",
       "    </tr>\n",
       "    <tr>\n",
       "      <th>...</th>\n",
       "      <td>...</td>\n",
       "      <td>...</td>\n",
       "      <td>...</td>\n",
       "    </tr>\n",
       "    <tr>\n",
       "      <th>966</th>\n",
       "      <td>2.134247</td>\n",
       "      <td>410.0</td>\n",
       "      <td>22.521737</td>\n",
       "    </tr>\n",
       "    <tr>\n",
       "      <th>967</th>\n",
       "      <td>2.134247</td>\n",
       "      <td>420.0</td>\n",
       "      <td>23.467222</td>\n",
       "    </tr>\n",
       "    <tr>\n",
       "      <th>968</th>\n",
       "      <td>2.134247</td>\n",
       "      <td>430.0</td>\n",
       "      <td>23.706471</td>\n",
       "    </tr>\n",
       "    <tr>\n",
       "      <th>969</th>\n",
       "      <td>2.134247</td>\n",
       "      <td>440.0</td>\n",
       "      <td>23.644979</td>\n",
       "    </tr>\n",
       "    <tr>\n",
       "      <th>970</th>\n",
       "      <td>2.134247</td>\n",
       "      <td>450.0</td>\n",
       "      <td>23.838669</td>\n",
       "    </tr>\n",
       "  </tbody>\n",
       "</table>\n",
       "<p>971 rows × 3 columns</p>\n",
       "</div>"
      ],
      "text/plain": [
       "     Time to maturity  Strikes  Implied volatility\n",
       "0            0.005479    100.0           30.000000\n",
       "1            0.005479    115.0           30.000000\n",
       "2            0.005479    130.0           30.000000\n",
       "3            0.005479    135.0           30.000000\n",
       "4            0.005479    140.0           30.000000\n",
       "..                ...      ...                 ...\n",
       "966          2.134247    410.0           22.521737\n",
       "967          2.134247    420.0           23.467222\n",
       "968          2.134247    430.0           23.706471\n",
       "969          2.134247    440.0           23.644979\n",
       "970          2.134247    450.0           23.838669\n",
       "\n",
       "[971 rows x 3 columns]"
      ]
     },
     "execution_count": 89,
     "metadata": {},
     "output_type": "execute_result"
    }
   ],
   "source": [
    "model.volatility_surface('AAPL')"
   ]
  }
 ],
 "metadata": {
  "kernelspec": {
   "display_name": "base",
   "language": "python",
   "name": "python3"
  },
  "language_info": {
   "codemirror_mode": {
    "name": "ipython",
    "version": 3
   },
   "file_extension": ".py",
   "mimetype": "text/x-python",
   "name": "python",
   "nbconvert_exporter": "python",
   "pygments_lexer": "ipython3",
   "version": "3.10.9"
  }
 },
 "nbformat": 4,
 "nbformat_minor": 2
}
