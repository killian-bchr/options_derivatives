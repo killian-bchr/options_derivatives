{
 "cells": [
  {
   "cell_type": "code",
   "execution_count": 25,
   "metadata": {},
   "outputs": [
    {
     "name": "stdout",
     "output_type": "stream",
     "text": [
      "The autoreload extension is already loaded. To reload it, use:\n",
      "  %reload_ext autoreload\n"
     ]
    }
   ],
   "source": [
    "import numpy as np\n",
    "import matplotlib.pyplot as plt\n",
    "import options_trading as opt\n",
    "%load_ext autoreload\n",
    "%autoreload 2"
   ]
  },
  {
   "cell_type": "markdown",
   "metadata": {},
   "source": [
    "### Arithmetic Asian Option"
   ]
  },
  {
   "cell_type": "code",
   "execution_count": 26,
   "metadata": {},
   "outputs": [],
   "source": [
    "#Antithetic technique : to improve accuracy\n",
    "def asian_out_option_arithmetic(S0, K, n, T, r, vol, N, M):\n",
    "    \"\"\"\n",
    "    S0 : price of the underlying at time t=0\n",
    "    K : strike price of the option\n",
    "    n : number of observations\n",
    "    T : time to maturity\n",
    "    r : risk-free rate\n",
    "    vol : volatility\n",
    "    N : number of timesteps\n",
    "    M : number of simulations\n",
    "    \"\"\"\n",
    "    #Pricing Asian (arithmetic) out option\n",
    "    dt=T/N\n",
    "    period=N//n\n",
    "    nudt=(r-0.5*vol**2)*dt\n",
    "    volsdt=vol*np.sqrt(dt)\n",
    "    erdt=np.exp(-r*dt)\n",
    "\n",
    "    sum_CT=0\n",
    "    sum_CT2=0\n",
    "\n",
    "    for i in range(M):\n",
    "        St1=S0\n",
    "        St2=S0\n",
    "        At1_sum=0\n",
    "        At2_sum=0\n",
    "    \n",
    "        for j in range (N):\n",
    "            epsilon=np.random.normal()\n",
    "            Stn1=St1*np.exp(nudt+volsdt*epsilon)\n",
    "            Stn2=St2*np.exp(nudt-volsdt*epsilon)\n",
    "            St1=Stn1\n",
    "            St2=Stn2\n",
    "            if (j + 1) % period == 0:\n",
    "                At1_sum += St1\n",
    "                At2_sum += St2\n",
    "            \n",
    "        A1=At1_sum/n\n",
    "        A2=At2_sum/n\n",
    "        CT=(np.maximum(A1-K, 0)+np.maximum(A2-K, 0))/2\n",
    "        \n",
    "        sum_CT+=CT\n",
    "        sum_CT2+=CT**2\n",
    "    \n",
    "    C0=np.exp(-r*T)*sum_CT/M\n",
    "    sigma=np.sqrt((sum_CT2-sum_CT*sum_CT/M)*np.exp(-2*r*T)/(M-1))\n",
    "    SE=sigma/np.sqrt(M)    #Compute the standard error\n",
    "    \n",
    "    return C0"
   ]
  },
  {
   "cell_type": "code",
   "execution_count": 34,
   "metadata": {},
   "outputs": [
    {
     "data": {
      "text/plain": [
       "5.055743468017498"
      ]
     },
     "execution_count": 34,
     "metadata": {},
     "output_type": "execute_result"
    }
   ],
   "source": [
    "asian_out_option_arithmetic(100, 100, 12, 1, 0.02, 0.2, 100, 1000)"
   ]
  },
  {
   "cell_type": "markdown",
   "metadata": {},
   "source": [
    "### Geometric Asian Option"
   ]
  },
  {
   "cell_type": "code",
   "execution_count": 55,
   "metadata": {},
   "outputs": [],
   "source": [
    "def asian_out_geometric_option(S0, K, n, T, r, vol, N, M):\n",
    "    \"\"\"\n",
    "    S0 : price of the underlying at time t=0\n",
    "    K : strike price of the option\n",
    "    n : number of observations\n",
    "    T : time to maturity\n",
    "    r : risk-free rate\n",
    "    vol : volatility\n",
    "    N : number of timesteps\n",
    "    M : number of simulations\n",
    "    \"\"\"\n",
    "    #Pricing Asian (geometric) out option\n",
    "    dt=T/N\n",
    "    period=N//n\n",
    "    nudt=(r-0.5*vol**2)*dt\n",
    "    volsdt=vol*np.sqrt(dt)\n",
    "    erdt=np.exp(-r*dt)\n",
    "\n",
    "    sum_CT=0\n",
    "    sum_CT2=0\n",
    "\n",
    "    for i in range(M):\n",
    "        St1=S0\n",
    "        St2=S0\n",
    "        GT1=1\n",
    "        GT2=1\n",
    "    \n",
    "        for j in range (N):\n",
    "            epsilon=np.random.normal()\n",
    "            Stn1=St1*np.exp(nudt+volsdt*epsilon)\n",
    "            Stn2=St2*np.exp(nudt-volsdt*epsilon)\n",
    "            St1=Stn1\n",
    "            St2=Stn2\n",
    "            if (j + 1) % period == 0:\n",
    "                GT1*=St1\n",
    "                GT2*=St2\n",
    "            \n",
    "        G1=GT1**(1/n)\n",
    "        G2=GT2**(1/n)\n",
    "        CT=(np.maximum(G1-K, 0)+np.maximum(G2-K, 0))/2\n",
    "        \n",
    "        sum_CT+=CT\n",
    "        sum_CT2+=CT**2\n",
    "    \n",
    "    C0=np.exp(-r*T)*sum_CT/M\n",
    "    sigma=np.sqrt((sum_CT2-sum_CT*sum_CT/M)*np.exp(-2*r*T)/(M-1))\n",
    "    SE=sigma/np.sqrt(M)    #Compute the standard error\n",
    "    \n",
    "    return C0"
   ]
  },
  {
   "cell_type": "code",
   "execution_count": 56,
   "metadata": {},
   "outputs": [
    {
     "data": {
      "text/plain": [
       "5.089036016889826"
      ]
     },
     "execution_count": 56,
     "metadata": {},
     "output_type": "execute_result"
    }
   ],
   "source": [
    "asian_out_geometric_option(100, 100, 12, 1, 0.02, 0.2, 100, 1000)"
   ]
  }
 ],
 "metadata": {
  "kernelspec": {
   "display_name": "base",
   "language": "python",
   "name": "python3"
  },
  "language_info": {
   "codemirror_mode": {
    "name": "ipython",
    "version": 3
   },
   "file_extension": ".py",
   "mimetype": "text/x-python",
   "name": "python",
   "nbconvert_exporter": "python",
   "pygments_lexer": "ipython3",
   "version": "3.10.9"
  }
 },
 "nbformat": 4,
 "nbformat_minor": 2
}
