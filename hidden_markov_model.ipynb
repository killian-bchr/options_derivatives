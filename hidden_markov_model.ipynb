{
 "cells": [
  {
   "cell_type": "code",
   "execution_count": 51,
   "metadata": {},
   "outputs": [],
   "source": [
    "import pandas as pd\n",
    "import numpy as np\n",
    "import matplotlib.pyplot as plt\n",
    "import math\n",
    "import scipy.stats\n",
    "from scipy.stats import norm\n",
    "from scipy.optimize import minimize\n",
    "import seaborn as sns\n",
    "from hmmlearn.hmm import MultinomialHMM\n",
    "import yfinance as yf\n",
    "from sklearn.model_selection import train_test_split"
   ]
  },
  {
   "cell_type": "markdown",
   "metadata": {},
   "source": [
    "### HMM"
   ]
  },
  {
   "cell_type": "code",
   "execution_count": 30,
   "metadata": {},
   "outputs": [
    {
     "name": "stderr",
     "output_type": "stream",
     "text": [
      "MultinomialHMM has undergone major changes. The previous version was implementing a CategoricalHMM (a special case of MultinomialHMM). This new implementation follows the standard definition for a Multinomial distribution (e.g. as in https://en.wikipedia.org/wiki/Multinomial_distribution). See these issues for details:\n",
      "https://github.com/hmmlearn/hmmlearn/issues/335\n",
      "https://github.com/hmmlearn/hmmlearn/issues/340\n"
     ]
    },
    {
     "data": {
      "text/plain": [
       "array([[nan, nan],\n",
       "       [nan, nan]])"
      ]
     },
     "execution_count": 30,
     "metadata": {},
     "output_type": "execute_result"
    }
   ],
   "source": [
    "start_prob = np.array([0.5, 0.5])\n",
    "trans_mat = np.array([[0.7, 0.3], [0.3, 0.7]])\n",
    "cov = np.array([[0.9, 0.1], [0.2, 0.8]])\n",
    "\n",
    "model = MultinomialHMM(n_components=2, startprob_prior=start_prob, transmat_prior=trans_mat)\n",
    "X = [[0, 0, 1, 0], [0, 0, 0, 0], [1, 1, 1, 0], [0, 0, 1, 0]]\n",
    "model.fit(X)\n",
    "model.transmat_"
   ]
  },
  {
   "cell_type": "code",
   "execution_count": 110,
   "metadata": {},
   "outputs": [
    {
     "name": "stderr",
     "output_type": "stream",
     "text": [
      "[*********************100%%**********************]  1 of 1 completed\n"
     ]
    },
    {
     "data": {
      "text/plain": [
       "array([-0.00972203,  0.00796814, -0.00470283, ...,  0.01610115,\n",
       "        0.00413376, -0.00516608])"
      ]
     },
     "execution_count": 110,
     "metadata": {},
     "output_type": "execute_result"
    }
   ],
   "source": [
    "prices = yf.download('AAPL', start='2020-01-01')['Adj Close']\n",
    "returns = prices.pct_change().dropna().values\n",
    "returns"
   ]
  },
  {
   "cell_type": "code",
   "execution_count": 85,
   "metadata": {},
   "outputs": [],
   "source": [
    "# Split into train and test data\n",
    "n = len(returns)\n",
    "returns_train = returns[:round(0.95*n)]\n",
    "returns_test = returns[round(0.95*n)+1:]"
   ]
  },
  {
   "cell_type": "code",
   "execution_count": 89,
   "metadata": {},
   "outputs": [],
   "source": [
    "# Define different states\n",
    "tresholds = np.percentile(returns_train, [33, 66])\n",
    "states = np.zeros_like(returns_train)\n",
    "\n",
    "states[returns_train<tresholds[0]] = 0  # First state\n",
    "states[(returns_train>tresholds[0]) & (returns_train<tresholds[1])] = 1  # Second state\n",
    "states[returns_train>tresholds[1]] = 2  # Third state\n",
    "states = states.astype(int)"
   ]
  },
  {
   "cell_type": "code",
   "execution_count": null,
   "metadata": {},
   "outputs": [
    {
     "data": {
      "text/plain": [
       "array([[0.34615385, 0.30512821, 0.34871795],\n",
       "       [0.31876607, 0.33676093, 0.34447301],\n",
       "       [0.32338308, 0.34825871, 0.32835821]])"
      ]
     },
     "execution_count": 90,
     "metadata": {},
     "output_type": "execute_result"
    }
   ],
   "source": [
    "# Define Transition matrix\n",
    "n_states = 3\n",
    "\n",
    "transmat = np.zeros((n_states, n_states))\n",
    "\n",
    "for i in range(0, len(states)-1):\n",
    "    current_state = states[i]\n",
    "    next_state = states[i+1]\n",
    "    transmat[current_state, next_state] += 1\n",
    "\n",
    "transmat = transmat / transmat.sum(axis=1, keepdims=True)  # On somme par ligne\n",
    "transmat = np.nan_to_num(transmat)   # Si un état n'est pas observé du tout\n",
    "transmat"
   ]
  },
  {
   "cell_type": "code",
   "execution_count": null,
   "metadata": {},
   "outputs": [
    {
     "name": "stderr",
     "output_type": "stream",
     "text": [
      "MultinomialHMM has undergone major changes. The previous version was implementing a CategoricalHMM (a special case of MultinomialHMM). This new implementation follows the standard definition for a Multinomial distribution (e.g. as in https://en.wikipedia.org/wiki/Multinomial_distribution). See these issues for details:\n",
      "https://github.com/hmmlearn/hmmlearn/issues/335\n",
      "https://github.com/hmmlearn/hmmlearn/issues/340\n"
     ]
    }
   ],
   "source": [
    "# Build the model\n",
    "model = MultinomialHMM(n_components=3, random_state=42)\n",
    "states = states.reshape(-1, 1)\n",
    "model.fit(states)\n",
    "model.startprob_ = [1/3, 1/3, 1/3]\n",
    "model.transmat_ = transmat\n",
    "model.n_trials = 1"
   ]
  },
  {
   "cell_type": "code",
   "execution_count": 93,
   "metadata": {},
   "outputs": [],
   "source": [
    "# Test and predict hidden states with the model\n",
    "\n",
    "n_steps = 10\n",
    "returns_test = returns_test.reshape(-1, 1).astype(int)\n",
    "predictions = model.predict(returns_test)\n",
    "pred_proba = model.predict_proba(returns_test)\n",
    "likelihood = model.score(returns_test)\n",
    "sample_obs, sample_states = model.sample(n_steps)"
   ]
  },
  {
   "cell_type": "code",
   "execution_count": 94,
   "metadata": {},
   "outputs": [
    {
     "data": {
      "text/plain": [
       "nan"
      ]
     },
     "execution_count": 94,
     "metadata": {},
     "output_type": "execute_result"
    }
   ],
   "source": [
    "likelihood"
   ]
  },
  {
   "cell_type": "code",
   "execution_count": 98,
   "metadata": {},
   "outputs": [],
   "source": [
    "states_test = np.zeros_like(returns_test)\n",
    "states_test[returns_test<tresholds[0]] = 0  # First state\n",
    "states_test[(returns_test>tresholds[0]) & (returns_test<tresholds[1])] = 1  # Second state\n",
    "states_test[returns_test>tresholds[1]] = 2  # Third state"
   ]
  },
  {
   "cell_type": "code",
   "execution_count": 123,
   "metadata": {},
   "outputs": [],
   "source": [
    "def hmm_model (series, n_states):\n",
    "    \"\"\" \n",
    "    series : Sequence of observations. Should be a list\n",
    "    n_states : Number of hidden states\n",
    "    \"\"\"\n",
    "    # Split into train and test data\n",
    "    n = len(series)\n",
    "    train_series = series[:round(0.8*n)]\n",
    "    test_series = series[round(0.8*n)+1:]\n",
    "\n",
    "    # Define different states\n",
    "    quantiles = np.linspace(0, 1, n_states+1)\n",
    "    quantiles = quantiles[1:-1]*100\n",
    "    tresholds = np.percentile(train_series, quantiles)\n",
    "    states = np.zeros_like(train_series)\n",
    "\n",
    "    states[train_series<tresholds[0]] = 0   # First state\n",
    "\n",
    "    if n_states > 2:\n",
    "        for i in range (1, n_states-1):\n",
    "            states[(train_series>tresholds[i-1]) & (train_series<tresholds[i])] = i   # i-ième state\n",
    "\n",
    "    states[train_series>tresholds[-1]] = n_states - 1   # Last state\n",
    "    states = states.astype(int)\n",
    "\n",
    "    # Define Transition matrix\n",
    "    transmat = np.zeros((n_states, n_states))\n",
    "\n",
    "    for i in range(0, len(states)-1):\n",
    "        current_state = states[i]\n",
    "        next_state = states[i+1]\n",
    "        transmat[current_state, next_state] += 1\n",
    "\n",
    "    transmat = transmat / transmat.sum(axis=1, keepdims=True)  # On somme par ligne\n",
    "    transmat = np.nan_to_num(transmat)   # Si un état n'est pas observé du tout\n",
    "\n",
    "    # Build the model\n",
    "    model = MultinomialHMM(n_components=n_states, random_state=42)\n",
    "    states = states.reshape(-1, 1)\n",
    "    model.fit(states)\n",
    "    model.startprob_ = np.repeat(1/n_states, n_states)\n",
    "    model.transmat_ = transmat\n",
    "    model.n_trials = 1\n",
    "\n",
    "    return model, transmat"
   ]
  },
  {
   "cell_type": "code",
   "execution_count": 112,
   "metadata": {},
   "outputs": [
    {
     "name": "stderr",
     "output_type": "stream",
     "text": [
      "[*********************100%%**********************]  1 of 1 completed\n"
     ]
    }
   ],
   "source": [
    "prices = yf.download('AAPL', start='2020-01-01')['Adj Close']\n",
    "returns = prices.pct_change().dropna().values"
   ]
  },
  {
   "cell_type": "code",
   "execution_count": 125,
   "metadata": {},
   "outputs": [
    {
     "name": "stderr",
     "output_type": "stream",
     "text": [
      "MultinomialHMM has undergone major changes. The previous version was implementing a CategoricalHMM (a special case of MultinomialHMM). This new implementation follows the standard definition for a Multinomial distribution (e.g. as in https://en.wikipedia.org/wiki/Multinomial_distribution). See these issues for details:\n",
      "https://github.com/hmmlearn/hmmlearn/issues/335\n",
      "https://github.com/hmmlearn/hmmlearn/issues/340\n"
     ]
    },
    {
     "data": {
      "text/plain": [
       "(MultinomialHMM(n_components=5, n_trials=1,\n",
       "                random_state=RandomState(MT19937) at 0x1F6F5798A40),\n",
       " array([[0.26633166, 0.14070352, 0.1959799 , 0.18592965, 0.21105528],\n",
       "        [0.15577889, 0.18090452, 0.21105528, 0.20100503, 0.25125628],\n",
       "        [0.15656566, 0.24242424, 0.19191919, 0.21717172, 0.19191919],\n",
       "        [0.1758794 , 0.24623116, 0.1959799 , 0.22110553, 0.16080402],\n",
       "        [0.24623116, 0.18592965, 0.20603015, 0.1758794 , 0.18592965]]))"
      ]
     },
     "execution_count": 125,
     "metadata": {},
     "output_type": "execute_result"
    }
   ],
   "source": [
    "hmm_model(returns, 5)"
   ]
  }
 ],
 "metadata": {
  "kernelspec": {
   "display_name": "base",
   "language": "python",
   "name": "python3"
  },
  "language_info": {
   "codemirror_mode": {
    "name": "ipython",
    "version": 3
   },
   "file_extension": ".py",
   "mimetype": "text/x-python",
   "name": "python",
   "nbconvert_exporter": "python",
   "pygments_lexer": "ipython3",
   "version": "3.10.9"
  }
 },
 "nbformat": 4,
 "nbformat_minor": 2
}
