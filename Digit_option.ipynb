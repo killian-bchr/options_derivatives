{
 "cells": [
  {
   "cell_type": "code",
   "execution_count": 1,
   "metadata": {},
   "outputs": [],
   "source": [
    "import numpy as np\n",
    "import matplotlib.pyplot as plt\n",
    "import options_trading as opt\n",
    "%load_ext autoreload\n",
    "%autoreload 2"
   ]
  },
  {
   "cell_type": "markdown",
   "metadata": {},
   "source": [
    "### Price a Digit Option"
   ]
  },
  {
   "cell_type": "code",
   "execution_count": 3,
   "metadata": {},
   "outputs": [],
   "source": [
    "def call_spread(S0, K1, K2, T, r, vol):\n",
    "    C1 = opt.black_scholes(r, S0, K1, T, vol, type=\"c\")\n",
    "    C2 = opt.black_scholes(r, S0, K2, T, vol, type=\"c\")\n",
    "    return C1 - C2\n",
    "\n",
    "def put_spread(S0, K1, K2, T, r, vol):\n",
    "    P1 = opt.black_scholes(r, S0, K1, T, vol, type=\"p\")\n",
    "    P2 = opt.black_scholes(r, S0, K2, T, vol, type=\"p\")\n",
    "    return P2 - P1"
   ]
  },
  {
   "cell_type": "code",
   "execution_count": null,
   "metadata": {},
   "outputs": [],
   "source": [
    "def digit_option_call_spread(A, S0, K, T, w, r, vol, opttype=\"C\"):\n",
    "    \"\"\"\n",
    "    A : montant du paiement de la digital option\n",
    "    S0 : prix de l'actif sous-jacent à t=0\n",
    "    K : strike de la digital option\n",
    "    T : maturité (en années)\n",
    "    w : largeur du spread (> 0)\n",
    "    r : taux sans risque (en pourcentage)\n",
    "    vol : volatilité (en pourcentage)\n",
    "    opttype : \"C\" pour call, \"P\" pour put\n",
    "    \"\"\"\n",
    "    \n",
    "    if w <= 0:\n",
    "        raise ValueError(\"The width of the spread must be greater than 0.\")\n",
    "    \n",
    "    if opttype == \"C\":\n",
    "        ### Buy A/w call spreads (gearing of the digit option call)\n",
    "        return (A / w) * call_spread(S0, K - w, K, T, r, vol)\n",
    "    \n",
    "    elif opttype == \"P\":\n",
    "        ### Buy A/w put spreads (gearing of the digit option put)\n",
    "        return (A / w) * (opt.black_scholes(r, S0, K, T, vol, type=\"p\") -\n",
    "                          opt.black_scholes(r, S0, K - w, T, vol, type=\"p\"))"
   ]
  },
  {
   "cell_type": "markdown",
   "metadata": {},
   "source": [
    "### Hedge a Digit Option"
   ]
  },
  {
   "cell_type": "code",
   "execution_count": null,
   "metadata": {},
   "outputs": [],
   "source": [
    "def delta_call_spread(S0, K1, K2, T, r, vol):\n",
    "    delta_C1 = opt.delta_calc(r, S0, K1, T, vol, type=\"c\")\n",
    "    delta_C2 = opt.delta_calc(r, S0, K2, T, vol, type=\"c\")\n",
    "    return delta_C1 - delta_C2\n",
    "\n",
    "def delta_put_spread(S0, K1, K2, T, r, vol):\n",
    "    delta_P1 = opt.delta_calc(r, S0, K1, T, vol, type=\"p\")\n",
    "    delta_P2 = opt.delta_calc(r, S0, K2, T, vol, type=\"p\")\n",
    "    return delta_P2 - delta_P1\n",
    "\n",
    "def gamma_call_spread(S0, K1, K2, T, r, vol):\n",
    "    gamma_C1 = opt.gamma_calc(r, S0, K1, T, vol, type=\"c\")\n",
    "    gamma_C2 = opt.gamma_calc(r, S0, K2, T, vol, type=\"c\")\n",
    "    return gamma_C1 - gamma_C2\n",
    "\n",
    "def gamma_put_spread(S0, K1, K2, T, r, vol):\n",
    "    gamma_P1 = opt.gamma_calc(r, S0, K1, T, vol, type=\"p\")\n",
    "    gamma_P2 = opt.gamma_calc(r, S0, K2, T, vol, type=\"p\")\n",
    "    return gamma_P2 - gamma_P1"
   ]
  },
  {
   "cell_type": "code",
   "execution_count": null,
   "metadata": {},
   "outputs": [],
   "source": [
    "def hedging_digit_option(S0, K, T, w, r, vol, N, M, opttype=\"C\"):\n",
    "    \"\"\"\n",
    "    S0 : price of the underlying at time t=0\n",
    "    K : strike of the digit\n",
    "    T : maturity (in years)\n",
    "    w : width of the call spread (must be > 0)\n",
    "    r : risk-free rate (in percent)\n",
    "    vol : volatility (in percent)\n",
    "    N : number of timesteps\n",
    "    M : number of simulations\n",
    "    opttype : \"C\" for call option and \"P\" for put option\n",
    "    \"\"\"\n",
    "\n",
    "    dt = T / N\n",
    "    nudt = (r - 0.5 * vol ** 2) * dt\n",
    "    volsdt = vol * np.sqrt(dt)\n",
    "    \n",
    "    hedged_position_avg = np.zeros(N+1)\n",
    "    cash_position_avg = np.zeros(N+1)\n",
    "    time = np.linspace(0, T, N+1)\n",
    "\n",
    "    # Simulation Monte Carlo\n",
    "    for i in range(M):\n",
    "        St = S0\n",
    "        hedged_position = np.zeros(N+1)\n",
    "        cash_position = np.zeros(N+1)\n",
    "        \n",
    "        # Calcul du delta initial\n",
    "        if opttype == \"C\":\n",
    "            delta_initial = delta_call_spread(S0, K - w, K, T, r, vol)\n",
    "            gamma_initial = gamma_call_spread(S0, K - w, K, T, r, vol)\n",
    "        else:\n",
    "            delta_initial = delta_put_spread(S0, K - w, K, T, r, vol)\n",
    "            gamma_initial = gamma_put_spread(S0, K - w, K, T, r, vol)\n",
    "        \n",
    "        hedged_position[0] = delta_initial\n",
    "\n",
    "        for j in range(1, N+1):\n",
    "            epsilon = np.random.normal()\n",
    "            St = St * np.exp(nudt + volsdt * epsilon)\n",
    "            T_remaining = T - time[j]\n",
    "\n",
    "            if opttype == \"C\":\n",
    "                new_delta = delta_call_spread(St, K - w, K, T_remaining, r, vol)\n",
    "                new_gamma = gamma_call_spread(St, K - w, K, T_remaining, r, vol)\n",
    "            else:\n",
    "                new_delta = delta_put_spread(St, K - w, K, T_remaining, r, vol)\n",
    "                new_gamma = gamma_put_spread(St, K - w, K, T_remaining, r, vol)\n",
    "\n",
    "            delta_change = new_delta - hedged_position[j-1]\n",
    "\n",
    "            if abs(new_gamma) > 0.1:\n",
    "                delta_change *= (1 + abs(new_gamma))\n",
    "\n",
    "            hedged_position[j] = new_delta\n",
    "\n",
    "            cash_position[j] = cash_position[j-1] + delta_change * St\n",
    "\n",
    "        hedged_position_avg += hedged_position\n",
    "        cash_position_avg += cash_position\n",
    "\n",
    "    hedged_position_avg /= M\n",
    "    cash_position_avg /= M\n",
    "\n",
    "    return hedged_position_avg, cash_position_avg, time"
   ]
  }
 ],
 "metadata": {
  "kernelspec": {
   "display_name": "base",
   "language": "python",
   "name": "python3"
  },
  "language_info": {
   "codemirror_mode": {
    "name": "ipython",
    "version": 3
   },
   "file_extension": ".py",
   "mimetype": "text/x-python",
   "name": "python",
   "nbconvert_exporter": "python",
   "pygments_lexer": "ipython3",
   "version": "3.10.9"
  }
 },
 "nbformat": 4,
 "nbformat_minor": 2
}
