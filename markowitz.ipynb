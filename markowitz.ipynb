{
 "cells": [
  {
   "cell_type": "code",
   "execution_count": 51,
   "metadata": {},
   "outputs": [],
   "source": [
    "import pandas as pd\n",
    "import numpy as np\n",
    "import matplotlib.pyplot as plt\n",
    "import math\n",
    "import scipy.stats\n",
    "from scipy.stats import norm\n",
    "from scipy.optimize import minimize\n",
    "import seaborn as sns\n",
    "from hmmlearn.hmm import MultinomialHMM\n",
    "import yfinance as yf\n",
    "from sklearn.model_selection import train_test_split"
   ]
  },
  {
   "cell_type": "code",
   "execution_count": 3,
   "metadata": {},
   "outputs": [],
   "source": [
    "def portfolio_return (weight, returns): \n",
    "    return weight.T @ returns\n",
    "\n",
    "def portfolio_vol(weight, cov):\n",
    "    return (weight.T @ cov @ weight)**0.5\n",
    "\n",
    "def plot_ef_2(n_points, er, cov, style=\".-\"):\n",
    "    \"\"\"Plots the 2-asset efficient frontier\n",
    "    \"\"\"\n",
    "    weights = [np.array([w,1-w])for w in np.linspace(0,1,n_points)]\n",
    "    rets=[portfolio_return(w,er)for w in weights]\n",
    "    vols=[portfolio_vol(w,cov) for w in weights]\n",
    "    ef=pd.DataFrame({\"Returns\":rets, \"Volatility\":vols})\n",
    "    return ef.plot.line(x=\"Volatility\", y=\"Returns\", style=style)\n",
    "\n",
    "def target_is_met(w,er):\n",
    "    return target_return - portfolio_return(w,er)\n",
    "\n",
    "def minimize_vol(target_return, er, cov):\n",
    "    \"\"\" Target return --> Weight vector\n",
    "    \"\"\"\n",
    "    n=er.shape[0]\n",
    "    init_guess = np.repeat(1/n, n)\n",
    "    bounds = ((0.0, 1.0),)*n\n",
    "    return_is_target = {\n",
    "        'type':'eq',\n",
    "        'args':(er,),\n",
    "        'fun': lambda weights, er : target_return - portfolio_return(weights,er)\n",
    "    }\n",
    "    weights_sum_to_1 = {\n",
    "        'type':'eq',\n",
    "        'fun': lambda weights: np.sum(weights)-1\n",
    "    }\n",
    "    results = minimize(portfolio_vol, init_guess, args=(cov,), method='SLSQP', options={'disp' : False},\n",
    "                       constraints=(return_is_target, weights_sum_to_1), bounds=bounds)\n",
    "    return results.x\n",
    "\n",
    "def optimal_weights(n_points, er, cov):\n",
    "    \"\"\"list of weihgts to run the optimizer on to minimize the vol\n",
    "    \"\"\"\n",
    "    target_rs = np.linspace(er.min(), er.max(), n_points)\n",
    "    weights=[minimize_vol(target_return, er, cov) for target_return in target_rs]\n",
    "    return weights\n",
    "\n",
    "def msr (riskfree_rate, er, cov):\n",
    "    \"\"\"Returns the weights of the portfolio that gives you the maximum sharpe ratio \n",
    "    given the riskfree rate and expected returns and a covariance matrix\n",
    "    \"\"\"\n",
    "    n=er.shape[0]\n",
    "    init_guess = np.repeat(1/n, n)\n",
    "    bounds = ((0.0, 1.0),)*n\n",
    "    weights_sum_to_1 = {\n",
    "        'type':'eq',\n",
    "        'fun': lambda weights: np.sum(weights)-1\n",
    "    }\n",
    "    def neg_sharpe_ratio(weights, riskfree_rate, er, cov):\n",
    "        \"\"\"Returns the negative of the sharpe ratio, given weights\n",
    "        \"\"\"\n",
    "        r=portfolio_return(weights, er)\n",
    "        vol=portfolio_vol(weights, cov)\n",
    "        return -(r-riskfree_rate)/vol\n",
    "    \n",
    "    results = minimize(neg_sharpe_ratio, init_guess, args=(riskfree_rate, er, cov,), method='SLSQP',\n",
    "                       options={'disp' : False},\n",
    "                       constraints=(weights_sum_to_1), bounds=bounds)\n",
    "    return results.x\n",
    "\n",
    "def gmv(cov):\n",
    "    \"\"\"Returns the weights of the Global Minimum Vol portfolio\n",
    "    given the covariance matrix\n",
    "    \"\"\"\n",
    "    n = cov.shape[0]\n",
    "    return msr(0, np.repeat(1,n), cov)\n",
    "    \n",
    "def plot_ef(n_points, er, cov, show_cml=False, style='.-', riskfree_rate=0, show_ew=False, show_gmv=False):\n",
    "    \"\"\"Plots the N-asset efficient frontier\n",
    "    \"\"\"\n",
    "    weights = optimal_weights(n_points, er, cov)\n",
    "    rets=[portfolio_return(w,er)for w in weights]\n",
    "    vols=[portfolio_vol(w,cov)for w in weights]\n",
    "    ef=pd.DataFrame({\"Returns\":rets, \"Volatility\":vols})\n",
    "    ax = ef.plot.line(x=\"Volatility\", y=\"Returns\", style=style, legend=True)\n",
    "    if show_ew:\n",
    "        n=er.shape[0]\n",
    "        w_ew = np.repeat(1/n,n)\n",
    "        r_ew = portfolio_return(w_ew, er)\n",
    "        vol_ew = portfolio_vol(w_ew, cov)\n",
    "        ax.plot([vol_ew], [r_ew], color=\"goldenrod\", marker=\"o\", markersize=10, label=\"EW\")\n",
    "    if show_gmv:\n",
    "        w_gmv = gmv(cov)\n",
    "        r_gmv = portfolio_return(w_gmv, er)\n",
    "        vol_gmv = portfolio_vol(w_gmv, cov)\n",
    "        ax.plot([vol_gmv], [r_gmv], color=\"midnightblue\", marker=\"o\", markersize=10, label=\"GMV\")\n",
    "    if show_cml:\n",
    "        ax.set_xlim(left = 0)\n",
    "        w_msr = msr(riskfree_rate, er, cov)\n",
    "        r_msr = portfolio_return(w_msr, er)\n",
    "        vol_msr = portfolio_vol(w_msr, cov)\n",
    "        cml_x = [0, vol_msr]\n",
    "        cml_y = [riskfree_rate, r_msr]\n",
    "        ax.plot(cml_x, cml_y, color='green', marker='o', linestyle='dashed', markersize=10, linewidth=2, label=\"CML\")\n",
    "    ax.legend()\n",
    "    plt.show()\n"
   ]
  },
  {
   "cell_type": "code",
   "execution_count": null,
   "metadata": {},
   "outputs": [],
   "source": [
    "def get_returns(n):\n",
    "    rets = np.random.uniform(0, 1, n)\n",
    "    return rets\n",
    "\n",
    "def get_cov(n):\n",
    "    A = np.random.normal(0, 1, (n, n))\n",
    "    S = A @ A.T\n",
    "    D = np.diag(1/np.sqrt(np.diag(S)))\n",
    "    correlation_matrix = D @ S @ D\n",
    "    np.fill_diagonal(correlation_matrix, 1)\n",
    "    return correlation_matrix"
   ]
  },
  {
   "cell_type": "code",
   "execution_count": 20,
   "metadata": {},
   "outputs": [],
   "source": [
    "n=8\n",
    "rets = get_returns(n)\n",
    "cov = get_cov(n)"
   ]
  },
  {
   "cell_type": "code",
   "execution_count": 24,
   "metadata": {},
   "outputs": [
    {
     "data": {
      "image/png": "[encoded data removed]",
      "text/plain": [
       "<Figure size 640x480 with 1 Axes>"
      ]
     },
     "metadata": {},
     "output_type": "display_data"
    }
   ],
   "source": [
    "plot_ef(1000, rets, cov, show_cml=True, show_ew=True, show_gmv=True, riskfree_rate=0.08)"
   ]
  },
  {
   "cell_type": "markdown",
   "metadata": {},
   "source": [
    "### HMM"
   ]
  },
  {
   "cell_type": "code",
   "execution_count": 30,
   "metadata": {},
   "outputs": [
    {
     "name": "stderr",
     "output_type": "stream",
     "text": [
      "MultinomialHMM has undergone major changes. The previous version was implementing a CategoricalHMM (a special case of MultinomialHMM). This new implementation follows the standard definition for a Multinomial distribution (e.g. as in https://en.wikipedia.org/wiki/Multinomial_distribution). See these issues for details:\n",
      "https://github.com/hmmlearn/hmmlearn/issues/335\n",
      "https://github.com/hmmlearn/hmmlearn/issues/340\n"
     ]
    },
    {
     "data": {
      "text/plain": [
       "array([[nan, nan],\n",
       "       [nan, nan]])"
      ]
     },
     "execution_count": 30,
     "metadata": {},
     "output_type": "execute_result"
    }
   ],
   "source": [
    "start_prob = np.array([0.5, 0.5])\n",
    "trans_mat = np.array([[0.7, 0.3], [0.3, 0.7]])\n",
    "cov = np.array([[0.9, 0.1], [0.2, 0.8]])\n",
    "\n",
    "model = MultinomialHMM(n_components=2, startprob_prior=start_prob, transmat_prior=trans_mat)\n",
    "X = [[0, 0, 1, 0], [0, 0, 0, 0], [1, 1, 1, 0], [0, 0, 1, 0]]\n",
    "model.fit(X)\n",
    "model.transmat_"
   ]
  },
  {
   "cell_type": "code",
   "execution_count": 110,
   "metadata": {},
   "outputs": [
    {
     "name": "stderr",
     "output_type": "stream",
     "text": [
      "[*********************100%%**********************]  1 of 1 completed\n"
     ]
    },
    {
     "data": {
      "text/plain": [
       "array([-0.00972203,  0.00796814, -0.00470283, ...,  0.01610115,\n",
       "        0.00413376, -0.00516608])"
      ]
     },
     "execution_count": 110,
     "metadata": {},
     "output_type": "execute_result"
    }
   ],
   "source": [
    "prices = yf.download('AAPL', start='2020-01-01')['Adj Close']\n",
    "returns = prices.pct_change().dropna().values\n",
    "returns"
   ]
  },
  {
   "cell_type": "code",
   "execution_count": 85,
   "metadata": {},
   "outputs": [],
   "source": [
    "# Split into train and test data\n",
    "n = len(returns)\n",
    "returns_train = returns[:round(0.95*n)]\n",
    "returns_test = returns[round(0.95*n)+1:]"
   ]
  },
  {
   "cell_type": "code",
   "execution_count": 89,
   "metadata": {},
   "outputs": [],
   "source": [
    "# Define different states\n",
    "tresholds = np.percentile(returns_train, [33, 66])\n",
    "states = np.zeros_like(returns_train)\n",
    "\n",
    "states[returns_train<tresholds[0]] = 0  # First state\n",
    "states[(returns_train>tresholds[0]) & (returns_train<tresholds[1])] = 1  # Second state\n",
    "states[returns_train>tresholds[1]] = 2  # Third state\n",
    "states = states.astype(int)"
   ]
  },
  {
   "cell_type": "code",
   "execution_count": null,
   "metadata": {},
   "outputs": [
    {
     "data": {
      "text/plain": [
       "array([[0.34615385, 0.30512821, 0.34871795],\n",
       "       [0.31876607, 0.33676093, 0.34447301],\n",
       "       [0.32338308, 0.34825871, 0.32835821]])"
      ]
     },
     "execution_count": 90,
     "metadata": {},
     "output_type": "execute_result"
    }
   ],
   "source": [
    "# Define Transition matrix\n",
    "n_states = 3\n",
    "\n",
    "transmat = np.zeros((n_states, n_states))\n",
    "\n",
    "for i in range(0, len(states)-1):\n",
    "    current_state = states[i]\n",
    "    next_state = states[i+1]\n",
    "    transmat[current_state, next_state] += 1\n",
    "\n",
    "transmat = transmat / transmat.sum(axis=1, keepdims=True)  # On somme par ligne\n",
    "transmat = np.nan_to_num(transmat)   # Si un état n'est pas observé du tout\n",
    "transmat"
   ]
  },
  {
   "cell_type": "code",
   "execution_count": null,
   "metadata": {},
   "outputs": [
    {
     "name": "stderr",
     "output_type": "stream",
     "text": [
      "MultinomialHMM has undergone major changes. The previous version was implementing a CategoricalHMM (a special case of MultinomialHMM). This new implementation follows the standard definition for a Multinomial distribution (e.g. as in https://en.wikipedia.org/wiki/Multinomial_distribution). See these issues for details:\n",
      "https://github.com/hmmlearn/hmmlearn/issues/335\n",
      "https://github.com/hmmlearn/hmmlearn/issues/340\n"
     ]
    }
   ],
   "source": [
    "# Build the model\n",
    "model = MultinomialHMM(n_components=3, random_state=42)\n",
    "states = states.reshape(-1, 1)\n",
    "model.fit(states)\n",
    "model.startprob_ = [1/3, 1/3, 1/3]\n",
    "model.transmat_ = transmat\n",
    "model.n_trials = 1"
   ]
  },
  {
   "cell_type": "code",
   "execution_count": 93,
   "metadata": {},
   "outputs": [],
   "source": [
    "# Test and predict hidden states with the model\n",
    "\n",
    "n_steps = 10\n",
    "returns_test = returns_test.reshape(-1, 1).astype(int)\n",
    "predictions = model.predict(returns_test)\n",
    "pred_proba = model.predict_proba(returns_test)\n",
    "likelihood = model.score(returns_test)\n",
    "sample_obs, sample_states = model.sample(n_steps)"
   ]
  },
  {
   "cell_type": "code",
   "execution_count": 94,
   "metadata": {},
   "outputs": [
    {
     "data": {
      "text/plain": [
       "nan"
      ]
     },
     "execution_count": 94,
     "metadata": {},
     "output_type": "execute_result"
    }
   ],
   "source": [
    "likelihood"
   ]
  },
  {
   "cell_type": "code",
   "execution_count": 98,
   "metadata": {},
   "outputs": [],
   "source": [
    "states_test = np.zeros_like(returns_test)\n",
    "states_test[returns_test<tresholds[0]] = 0  # First state\n",
    "states_test[(returns_test>tresholds[0]) & (returns_test<tresholds[1])] = 1  # Second state\n",
    "states_test[returns_test>tresholds[1]] = 2  # Third state"
   ]
  },
  {
   "cell_type": "code",
   "execution_count": 123,
   "metadata": {},
   "outputs": [],
   "source": [
    "def hmm_model (series, n_states):\n",
    "    \"\"\" \n",
    "    series : Sequence of observations. Should be a list\n",
    "    n_states : Number of hidden states\n",
    "    \"\"\"\n",
    "    # Split into train and test data\n",
    "    n = len(series)\n",
    "    train_series = series[:round(0.8*n)]\n",
    "    test_series = series[round(0.8*n)+1:]\n",
    "\n",
    "    # Define different states\n",
    "    quantiles = np.linspace(0, 1, n_states+1)\n",
    "    quantiles = quantiles[1:-1]*100\n",
    "    tresholds = np.percentile(train_series, quantiles)\n",
    "    states = np.zeros_like(train_series)\n",
    "\n",
    "    states[train_series<tresholds[0]] = 0   # First state\n",
    "\n",
    "    if n_states > 2:\n",
    "        for i in range (1, n_states-1):\n",
    "            states[(train_series>tresholds[i-1]) & (train_series<tresholds[i])] = i   # i-ième state\n",
    "\n",
    "    states[train_series>tresholds[-1]] = n_states - 1   # Last state\n",
    "    states = states.astype(int)\n",
    "\n",
    "    # Define Transition matrix\n",
    "    transmat = np.zeros((n_states, n_states))\n",
    "\n",
    "    for i in range(0, len(states)-1):\n",
    "        current_state = states[i]\n",
    "        next_state = states[i+1]\n",
    "        transmat[current_state, next_state] += 1\n",
    "\n",
    "    transmat = transmat / transmat.sum(axis=1, keepdims=True)  # On somme par ligne\n",
    "    transmat = np.nan_to_num(transmat)   # Si un état n'est pas observé du tout\n",
    "\n",
    "    # Build the model\n",
    "    model = MultinomialHMM(n_components=n_states, random_state=42)\n",
    "    states = states.reshape(-1, 1)\n",
    "    model.fit(states)\n",
    "    model.startprob_ = np.repeat(1/n_states, n_states)\n",
    "    model.transmat_ = transmat\n",
    "    model.n_trials = 1\n",
    "\n",
    "    return model, transmat"
   ]
  },
  {
   "cell_type": "code",
   "execution_count": 112,
   "metadata": {},
   "outputs": [
    {
     "name": "stderr",
     "output_type": "stream",
     "text": [
      "[*********************100%%**********************]  1 of 1 completed\n"
     ]
    }
   ],
   "source": [
    "prices = yf.download('AAPL', start='2020-01-01')['Adj Close']\n",
    "returns = prices.pct_change().dropna().values"
   ]
  },
  {
   "cell_type": "code",
   "execution_count": 125,
   "metadata": {},
   "outputs": [
    {
     "name": "stderr",
     "output_type": "stream",
     "text": [
      "MultinomialHMM has undergone major changes. The previous version was implementing a CategoricalHMM (a special case of MultinomialHMM). This new implementation follows the standard definition for a Multinomial distribution (e.g. as in https://en.wikipedia.org/wiki/Multinomial_distribution). See these issues for details:\n",
      "https://github.com/hmmlearn/hmmlearn/issues/335\n",
      "https://github.com/hmmlearn/hmmlearn/issues/340\n"
     ]
    },
    {
     "data": {
      "text/plain": [
       "(MultinomialHMM(n_components=5, n_trials=1,\n",
       "                random_state=RandomState(MT19937) at 0x1F6F5798A40),\n",
       " array([[0.26633166, 0.14070352, 0.1959799 , 0.18592965, 0.21105528],\n",
       "        [0.15577889, 0.18090452, 0.21105528, 0.20100503, 0.25125628],\n",
       "        [0.15656566, 0.24242424, 0.19191919, 0.21717172, 0.19191919],\n",
       "        [0.1758794 , 0.24623116, 0.1959799 , 0.22110553, 0.16080402],\n",
       "        [0.24623116, 0.18592965, 0.20603015, 0.1758794 , 0.18592965]]))"
      ]
     },
     "execution_count": 125,
     "metadata": {},
     "output_type": "execute_result"
    }
   ],
   "source": [
    "hmm_model(returns, 5)"
   ]
  }
 ],
 "metadata": {
  "kernelspec": {
   "display_name": "base",
   "language": "python",
   "name": "python3"
  },
  "language_info": {
   "codemirror_mode": {
    "name": "ipython",
    "version": 3
   },
   "file_extension": ".py",
   "mimetype": "text/x-python",
   "name": "python",
   "nbconvert_exporter": "python",
   "pygments_lexer": "ipython3",
   "version": "3.10.9"
  }
 },
 "nbformat": 4,
 "nbformat_minor": 2
}
